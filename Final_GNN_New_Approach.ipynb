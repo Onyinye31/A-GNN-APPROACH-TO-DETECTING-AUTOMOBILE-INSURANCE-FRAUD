{
  "cells": [
    {
      "cell_type": "markdown",
      "metadata": {
        "id": "view-in-github",
        "colab_type": "text"
      },
      "source": [
        "<a href=\"https://colab.research.google.com/github/Onyinye31/A-GNN-APPROACH-TO-DETECTING-AUTOMOBILE-INSURANCE-FRAUD/blob/main/Final_GNN_New_Approach.ipynb\" target=\"_parent\"><img src=\"https://colab.research.google.com/assets/colab-badge.svg\" alt=\"Open In Colab\"/></a>"
      ]
    },
    {
      "cell_type": "markdown",
      "metadata": {
        "id": "YnzY-oyrvaLU"
      },
      "source": [
        "Vehicle Insurance Fraud Detection Dataset\n",
        "\n",
        "Source:https://www.kaggle.com/datasets/khusheekapoor/vehicle-insurance-fraud-detection\n",
        "\n",
        "The dataset has 32 features in total, of which there are 25 category features, 6 ordinal features, and one class variable with the label \"fraud\" or \"not-fraud.\" Only 923 records, out of its 15,420 total records are false.\n",
        "\n",
        "For data transformation, each column in the relational table is categorised into one of the following three types:\n",
        "\n",
        "Identity columns – columns that include user or transaction-specific identity data, such as IP addresses, phone numbers, and device identifiers. In the heterogeneous network, these column types are transformed into node types, and the entries in these columns act as nodes.\n",
        "\n",
        "Categorical columns – columns that are associated with categorical characteristics, such as a user's age range or whether or not a given address is consistent with an address already on file. Numerical feature modification is applied to the items in these columns before they are used as node attributes in the homogeneous graph.\n",
        "\n",
        "Numerical columns – columns with numerical characteristics, like the quantity of times a user has attempted a transaction. In the heterogeneous graph, the entries in this table are also used as node characteristics. The script makes the assumption that all table columns that aren't identity or category columns are numerical columns."
      ]
    },
    {
      "cell_type": "code",
      "execution_count": null,
      "metadata": {
        "id": "0XPNopjvFNVS"
      },
      "outputs": [],
      "source": [
        "%%capture\n",
        "!git clone https://github.com/joerg84/Graph_Powered_ML_Workshop.git\n",
        "!rsync -av Graph_Powered_ML_Workshop/ ./ --exclude=.git\n",
        "!pip3 install dgl\n",
        "!pip3 install numpy\n",
        "!pip3 install torch\n",
        "!pip3 install networkx\n",
        "!pip3 install matplotlib"
      ]
    },
    {
      "cell_type": "code",
      "execution_count": null,
      "metadata": {
        "id": "nSoH0FWvWca6"
      },
      "outputs": [],
      "source": [
        "import os, sys\n",
        "from copy import deepcopy\n",
        "import numpy as np\n",
        "import pandas as pd\n",
        "\n",
        "import torch as th\n",
        "import torch.nn as nn\n",
        "from torch import optim\n",
        "import torch.nn.functional as F\n",
        "\n",
        "import matplotlib.pyplot as plt\n",
        "%matplotlib inline"
      ]
    },
    {
      "cell_type": "code",
      "execution_count": null,
      "metadata": {
        "colab": {
          "base_uri": "https://localhost:8080/"
        },
        "id": "KN61fhJ6WqAn",
        "outputId": "3e7accd0-40ed-410f-c9bb-0591f1ada26a"
      },
      "outputs": [
        {
          "output_type": "stream",
          "name": "stdout",
          "text": [
            "Torch version: 1.13.0+cu116.  CUDA version: 11.6\n"
          ]
        }
      ],
      "source": [
        "print(f\"Torch version: {th.__version__}.  CUDA version: {th.version.cuda}\")"
      ]
    },
    {
      "cell_type": "code",
      "execution_count": null,
      "metadata": {
        "colab": {
          "base_uri": "https://localhost:8080/",
          "height": 36
        },
        "id": "nIALMQOvWuwf",
        "outputId": "6969d90d-4c35-4601-840c-c646c6274e2b"
      },
      "outputs": [
        {
          "output_type": "execute_result",
          "data": {
            "text/plain": [
              "'dgl-cu116==0.9.1'"
            ],
            "application/vnd.google.colaboratory.intrinsic+json": {
              "type": "string"
            }
          },
          "metadata": {},
          "execution_count": 4
        }
      ],
      "source": [
        "dgl_version = f\"dgl-cu{th.version.cuda.replace('.', '')}==0.9.1\"\n",
        "dgl_version"
      ]
    },
    {
      "cell_type": "code",
      "execution_count": null,
      "metadata": {
        "colab": {
          "base_uri": "https://localhost:8080/"
        },
        "id": "Pd6PaXpgW0B6",
        "outputId": "3eed6fdc-68e3-4e94-d091-ff97323771ae"
      },
      "outputs": [
        {
          "output_type": "stream",
          "name": "stdout",
          "text": [
            "Looking in indexes: https://pypi.org/simple, https://us-python.pkg.dev/colab-wheels/public/simple/\n",
            "Looking in links: https://data.dgl.ai/wheels/repo.html\n",
            "Collecting dgl-cu116==0.9.1\n",
            "  Downloading https://data.dgl.ai/wheels/dgl_cu116-0.9.1-cp38-cp38-manylinux1_x86_64.whl (246.3 MB)\n",
            "\u001b[2K     \u001b[90m━━━━━━━━━━━━━━━━━━━━━━━━━━━━━━━━━━━━━━━\u001b[0m \u001b[32m246.3/246.3 MB\u001b[0m \u001b[31m4.2 MB/s\u001b[0m eta \u001b[36m0:00:00\u001b[0m\n",
            "\u001b[?25hRequirement already satisfied: numpy>=1.14.0 in /usr/local/lib/python3.8/dist-packages (from dgl-cu116==0.9.1) (1.21.6)\n",
            "Requirement already satisfied: scipy>=1.1.0 in /usr/local/lib/python3.8/dist-packages (from dgl-cu116==0.9.1) (1.7.3)\n",
            "Requirement already satisfied: requests>=2.19.0 in /usr/local/lib/python3.8/dist-packages (from dgl-cu116==0.9.1) (2.25.1)\n",
            "Requirement already satisfied: tqdm in /usr/local/lib/python3.8/dist-packages (from dgl-cu116==0.9.1) (4.64.1)\n",
            "Requirement already satisfied: networkx>=2.1 in /usr/local/lib/python3.8/dist-packages (from dgl-cu116==0.9.1) (2.8.8)\n",
            "Requirement already satisfied: psutil>=5.8.0 in /usr/local/lib/python3.8/dist-packages (from dgl-cu116==0.9.1) (5.9.4)\n",
            "Requirement already satisfied: chardet<5,>=3.0.2 in /usr/local/lib/python3.8/dist-packages (from requests>=2.19.0->dgl-cu116==0.9.1) (4.0.0)\n",
            "Requirement already satisfied: idna<3,>=2.5 in /usr/local/lib/python3.8/dist-packages (from requests>=2.19.0->dgl-cu116==0.9.1) (2.10)\n",
            "Requirement already satisfied: certifi>=2017.4.17 in /usr/local/lib/python3.8/dist-packages (from requests>=2.19.0->dgl-cu116==0.9.1) (2022.12.7)\n",
            "Requirement already satisfied: urllib3<1.27,>=1.21.1 in /usr/local/lib/python3.8/dist-packages (from requests>=2.19.0->dgl-cu116==0.9.1) (1.24.3)\n",
            "Installing collected packages: dgl-cu116\n",
            "Successfully installed dgl-cu116-0.9.1\n"
          ]
        }
      ],
      "source": [
        "# Follow instructions at https://www.dgl.ai/pages/start.html\n",
        "!{sys.executable} -m pip install {dgl_version} -f https://data.dgl.ai/wheels/repo.html"
      ]
    },
    {
      "cell_type": "code",
      "execution_count": null,
      "metadata": {
        "id": "iyOQCN9hW12L"
      },
      "outputs": [],
      "source": [
        "os.environ['DGLBACKEND'] = 'pytorch'\n",
        "import dgl\n",
        "from dgl import function as fn"
      ]
    },
    {
      "cell_type": "code",
      "execution_count": null,
      "metadata": {
        "colab": {
          "base_uri": "https://localhost:8080/",
          "height": 36
        },
        "id": "CueeIDtpW5ei",
        "outputId": "1f5d0a88-cc8a-490e-ef20-159951bebdb0"
      },
      "outputs": [
        {
          "output_type": "execute_result",
          "data": {
            "text/plain": [
              "'0.9.1'"
            ],
            "application/vnd.google.colaboratory.intrinsic+json": {
              "type": "string"
            }
          },
          "metadata": {},
          "execution_count": 7
        }
      ],
      "source": [
        "dgl.__version__"
      ]
    },
    {
      "cell_type": "code",
      "execution_count": null,
      "metadata": {
        "id": "71kaq97MutS2"
      },
      "outputs": [],
      "source": [
        "import dgl.dataloading"
      ]
    },
    {
      "cell_type": "code",
      "execution_count": null,
      "metadata": {
        "id": "trIj-o_WW8lb"
      },
      "outputs": [],
      "source": [
        "from dgl.dataloading import NodeDataLoader"
      ]
    },
    {
      "cell_type": "code",
      "execution_count": null,
      "metadata": {
        "colab": {
          "base_uri": "https://localhost:8080/"
        },
        "id": "w1-egxmdXHCn",
        "outputId": "2c87ad30-74f8-4933-f6d4-82fe8d450e8e"
      },
      "outputs": [
        {
          "output_type": "execute_result",
          "data": {
            "text/plain": [
              "device(type='cuda')"
            ]
          },
          "metadata": {},
          "execution_count": 10
        }
      ],
      "source": [
        "device = th.device('cuda' if th.cuda.is_available() else 'cpu')\n",
        "device"
      ]
    },
    {
      "cell_type": "markdown",
      "metadata": {
        "id": "FFb-p_lbvNrR"
      },
      "source": [
        "LOAD DATASET"
      ]
    },
    {
      "cell_type": "code",
      "execution_count": null,
      "metadata": {
        "colab": {
          "base_uri": "https://localhost:8080/"
        },
        "id": "tAxMjo8qvSiQ",
        "outputId": "002e0988-5d7c-4b7e-f9af-588040360bb8"
      },
      "outputs": [
        {
          "output_type": "stream",
          "name": "stdout",
          "text": [
            "<class 'pandas.core.frame.DataFrame'>\n",
            "RangeIndex: 15420 entries, 0 to 15419\n",
            "Data columns (total 33 columns):\n",
            " #   Column                Non-Null Count  Dtype \n",
            "---  ------                --------------  ----- \n",
            " 0   Month                 15420 non-null  object\n",
            " 1   WeekOfMonth           15420 non-null  int64 \n",
            " 2   DayOfWeek             15420 non-null  object\n",
            " 3   Make                  15420 non-null  object\n",
            " 4   AccidentArea          15420 non-null  object\n",
            " 5   DayOfWeekClaimed      15420 non-null  object\n",
            " 6   MonthClaimed          15420 non-null  object\n",
            " 7   WeekOfMonthClaimed    15420 non-null  int64 \n",
            " 8   Sex                   15420 non-null  object\n",
            " 9   MaritalStatus         15420 non-null  object\n",
            " 10  Age                   15420 non-null  int64 \n",
            " 11  Fault                 15420 non-null  object\n",
            " 12  PolicyType            15420 non-null  object\n",
            " 13  VehicleCategory       15420 non-null  object\n",
            " 14  VehiclePrice          15420 non-null  object\n",
            " 15  PolicyNumber          15420 non-null  int64 \n",
            " 16  RepNumber             15420 non-null  int64 \n",
            " 17  Deductible            15420 non-null  int64 \n",
            " 18  DriverRating          15420 non-null  int64 \n",
            " 19  Days:Policy-Accident  15420 non-null  object\n",
            " 20  Days:Policy-Claim     15420 non-null  object\n",
            " 21  PastNumberOfClaims    15420 non-null  object\n",
            " 22  AgeOfVehicle          15420 non-null  object\n",
            " 23  AgeOfPolicyHolder     15420 non-null  object\n",
            " 24  PoliceReportFiled     15420 non-null  object\n",
            " 25  WitnessPresent        15420 non-null  object\n",
            " 26  AgentType             15420 non-null  object\n",
            " 27  NumberOfSuppliments   15420 non-null  object\n",
            " 28  AddressChange-Claim   15420 non-null  object\n",
            " 29  NumberOfCars          15420 non-null  object\n",
            " 30  Year                  15420 non-null  int64 \n",
            " 31  BasePolicy            15420 non-null  object\n",
            " 32  FraudFound            15420 non-null  object\n",
            "dtypes: int64(8), object(25)\n",
            "memory usage: 3.9+ MB\n"
          ]
        }
      ],
      "source": [
        "#load dataset\n",
        "Dataset = pd.read_csv(\"/content/carclaims.csv\")\n",
        "#dataset \n",
        "Dataset.info()"
      ]
    },
    {
      "cell_type": "code",
      "execution_count": null,
      "metadata": {
        "colab": {
          "base_uri": "https://localhost:8080/",
          "height": 300
        },
        "id": "tpuXOttvwODF",
        "outputId": "f500d4b4-b858-47cf-c975-32f14f862dcb"
      },
      "outputs": [
        {
          "output_type": "execute_result",
          "data": {
            "text/plain": [
              "        WeekOfMonth  WeekOfMonthClaimed           Age  PolicyNumber  \\\n",
              "count  15420.000000        15420.000000  15420.000000  15420.000000   \n",
              "mean       2.788586            2.693969     39.855707   7710.500000   \n",
              "std        1.287585            1.259115     13.492377   4451.514911   \n",
              "min        1.000000            1.000000      0.000000      1.000000   \n",
              "25%        2.000000            2.000000     31.000000   3855.750000   \n",
              "50%        3.000000            3.000000     38.000000   7710.500000   \n",
              "75%        4.000000            4.000000     48.000000  11565.250000   \n",
              "max        5.000000            5.000000     80.000000  15420.000000   \n",
              "\n",
              "          RepNumber    Deductible  DriverRating          Year  \n",
              "count  15420.000000  15420.000000  15420.000000  15420.000000  \n",
              "mean       8.483268    407.704280      2.487808   1994.866472  \n",
              "std        4.599948     43.950998      1.119453      0.803313  \n",
              "min        1.000000    300.000000      1.000000   1994.000000  \n",
              "25%        5.000000    400.000000      1.000000   1994.000000  \n",
              "50%        8.000000    400.000000      2.000000   1995.000000  \n",
              "75%       12.000000    400.000000      3.000000   1996.000000  \n",
              "max       16.000000    700.000000      4.000000   1996.000000  "
            ],
            "text/html": [
              "\n",
              "  <div id=\"df-60171117-2506-449d-83d8-d22424b19245\">\n",
              "    <div class=\"colab-df-container\">\n",
              "      <div>\n",
              "<style scoped>\n",
              "    .dataframe tbody tr th:only-of-type {\n",
              "        vertical-align: middle;\n",
              "    }\n",
              "\n",
              "    .dataframe tbody tr th {\n",
              "        vertical-align: top;\n",
              "    }\n",
              "\n",
              "    .dataframe thead th {\n",
              "        text-align: right;\n",
              "    }\n",
              "</style>\n",
              "<table border=\"1\" class=\"dataframe\">\n",
              "  <thead>\n",
              "    <tr style=\"text-align: right;\">\n",
              "      <th></th>\n",
              "      <th>WeekOfMonth</th>\n",
              "      <th>WeekOfMonthClaimed</th>\n",
              "      <th>Age</th>\n",
              "      <th>PolicyNumber</th>\n",
              "      <th>RepNumber</th>\n",
              "      <th>Deductible</th>\n",
              "      <th>DriverRating</th>\n",
              "      <th>Year</th>\n",
              "    </tr>\n",
              "  </thead>\n",
              "  <tbody>\n",
              "    <tr>\n",
              "      <th>count</th>\n",
              "      <td>15420.000000</td>\n",
              "      <td>15420.000000</td>\n",
              "      <td>15420.000000</td>\n",
              "      <td>15420.000000</td>\n",
              "      <td>15420.000000</td>\n",
              "      <td>15420.000000</td>\n",
              "      <td>15420.000000</td>\n",
              "      <td>15420.000000</td>\n",
              "    </tr>\n",
              "    <tr>\n",
              "      <th>mean</th>\n",
              "      <td>2.788586</td>\n",
              "      <td>2.693969</td>\n",
              "      <td>39.855707</td>\n",
              "      <td>7710.500000</td>\n",
              "      <td>8.483268</td>\n",
              "      <td>407.704280</td>\n",
              "      <td>2.487808</td>\n",
              "      <td>1994.866472</td>\n",
              "    </tr>\n",
              "    <tr>\n",
              "      <th>std</th>\n",
              "      <td>1.287585</td>\n",
              "      <td>1.259115</td>\n",
              "      <td>13.492377</td>\n",
              "      <td>4451.514911</td>\n",
              "      <td>4.599948</td>\n",
              "      <td>43.950998</td>\n",
              "      <td>1.119453</td>\n",
              "      <td>0.803313</td>\n",
              "    </tr>\n",
              "    <tr>\n",
              "      <th>min</th>\n",
              "      <td>1.000000</td>\n",
              "      <td>1.000000</td>\n",
              "      <td>0.000000</td>\n",
              "      <td>1.000000</td>\n",
              "      <td>1.000000</td>\n",
              "      <td>300.000000</td>\n",
              "      <td>1.000000</td>\n",
              "      <td>1994.000000</td>\n",
              "    </tr>\n",
              "    <tr>\n",
              "      <th>25%</th>\n",
              "      <td>2.000000</td>\n",
              "      <td>2.000000</td>\n",
              "      <td>31.000000</td>\n",
              "      <td>3855.750000</td>\n",
              "      <td>5.000000</td>\n",
              "      <td>400.000000</td>\n",
              "      <td>1.000000</td>\n",
              "      <td>1994.000000</td>\n",
              "    </tr>\n",
              "    <tr>\n",
              "      <th>50%</th>\n",
              "      <td>3.000000</td>\n",
              "      <td>3.000000</td>\n",
              "      <td>38.000000</td>\n",
              "      <td>7710.500000</td>\n",
              "      <td>8.000000</td>\n",
              "      <td>400.000000</td>\n",
              "      <td>2.000000</td>\n",
              "      <td>1995.000000</td>\n",
              "    </tr>\n",
              "    <tr>\n",
              "      <th>75%</th>\n",
              "      <td>4.000000</td>\n",
              "      <td>4.000000</td>\n",
              "      <td>48.000000</td>\n",
              "      <td>11565.250000</td>\n",
              "      <td>12.000000</td>\n",
              "      <td>400.000000</td>\n",
              "      <td>3.000000</td>\n",
              "      <td>1996.000000</td>\n",
              "    </tr>\n",
              "    <tr>\n",
              "      <th>max</th>\n",
              "      <td>5.000000</td>\n",
              "      <td>5.000000</td>\n",
              "      <td>80.000000</td>\n",
              "      <td>15420.000000</td>\n",
              "      <td>16.000000</td>\n",
              "      <td>700.000000</td>\n",
              "      <td>4.000000</td>\n",
              "      <td>1996.000000</td>\n",
              "    </tr>\n",
              "  </tbody>\n",
              "</table>\n",
              "</div>\n",
              "      <button class=\"colab-df-convert\" onclick=\"convertToInteractive('df-60171117-2506-449d-83d8-d22424b19245')\"\n",
              "              title=\"Convert this dataframe to an interactive table.\"\n",
              "              style=\"display:none;\">\n",
              "        \n",
              "  <svg xmlns=\"http://www.w3.org/2000/svg\" height=\"24px\"viewBox=\"0 0 24 24\"\n",
              "       width=\"24px\">\n",
              "    <path d=\"M0 0h24v24H0V0z\" fill=\"none\"/>\n",
              "    <path d=\"M18.56 5.44l.94 2.06.94-2.06 2.06-.94-2.06-.94-.94-2.06-.94 2.06-2.06.94zm-11 1L8.5 8.5l.94-2.06 2.06-.94-2.06-.94L8.5 2.5l-.94 2.06-2.06.94zm10 10l.94 2.06.94-2.06 2.06-.94-2.06-.94-.94-2.06-.94 2.06-2.06.94z\"/><path d=\"M17.41 7.96l-1.37-1.37c-.4-.4-.92-.59-1.43-.59-.52 0-1.04.2-1.43.59L10.3 9.45l-7.72 7.72c-.78.78-.78 2.05 0 2.83L4 21.41c.39.39.9.59 1.41.59.51 0 1.02-.2 1.41-.59l7.78-7.78 2.81-2.81c.8-.78.8-2.07 0-2.86zM5.41 20L4 18.59l7.72-7.72 1.47 1.35L5.41 20z\"/>\n",
              "  </svg>\n",
              "      </button>\n",
              "      \n",
              "  <style>\n",
              "    .colab-df-container {\n",
              "      display:flex;\n",
              "      flex-wrap:wrap;\n",
              "      gap: 12px;\n",
              "    }\n",
              "\n",
              "    .colab-df-convert {\n",
              "      background-color: #E8F0FE;\n",
              "      border: none;\n",
              "      border-radius: 50%;\n",
              "      cursor: pointer;\n",
              "      display: none;\n",
              "      fill: #1967D2;\n",
              "      height: 32px;\n",
              "      padding: 0 0 0 0;\n",
              "      width: 32px;\n",
              "    }\n",
              "\n",
              "    .colab-df-convert:hover {\n",
              "      background-color: #E2EBFA;\n",
              "      box-shadow: 0px 1px 2px rgba(60, 64, 67, 0.3), 0px 1px 3px 1px rgba(60, 64, 67, 0.15);\n",
              "      fill: #174EA6;\n",
              "    }\n",
              "\n",
              "    [theme=dark] .colab-df-convert {\n",
              "      background-color: #3B4455;\n",
              "      fill: #D2E3FC;\n",
              "    }\n",
              "\n",
              "    [theme=dark] .colab-df-convert:hover {\n",
              "      background-color: #434B5C;\n",
              "      box-shadow: 0px 1px 3px 1px rgba(0, 0, 0, 0.15);\n",
              "      filter: drop-shadow(0px 1px 2px rgba(0, 0, 0, 0.3));\n",
              "      fill: #FFFFFF;\n",
              "    }\n",
              "  </style>\n",
              "\n",
              "      <script>\n",
              "        const buttonEl =\n",
              "          document.querySelector('#df-60171117-2506-449d-83d8-d22424b19245 button.colab-df-convert');\n",
              "        buttonEl.style.display =\n",
              "          google.colab.kernel.accessAllowed ? 'block' : 'none';\n",
              "\n",
              "        async function convertToInteractive(key) {\n",
              "          const element = document.querySelector('#df-60171117-2506-449d-83d8-d22424b19245');\n",
              "          const dataTable =\n",
              "            await google.colab.kernel.invokeFunction('convertToInteractive',\n",
              "                                                     [key], {});\n",
              "          if (!dataTable) return;\n",
              "\n",
              "          const docLinkHtml = 'Like what you see? Visit the ' +\n",
              "            '<a target=\"_blank\" href=https://colab.research.google.com/notebooks/data_table.ipynb>data table notebook</a>'\n",
              "            + ' to learn more about interactive tables.';\n",
              "          element.innerHTML = '';\n",
              "          dataTable['output_type'] = 'display_data';\n",
              "          await google.colab.output.renderOutput(dataTable, element);\n",
              "          const docLink = document.createElement('div');\n",
              "          docLink.innerHTML = docLinkHtml;\n",
              "          element.appendChild(docLink);\n",
              "        }\n",
              "      </script>\n",
              "    </div>\n",
              "  </div>\n",
              "  "
            ]
          },
          "metadata": {},
          "execution_count": 15
        }
      ],
      "source": [
        "#Dataset Description\n",
        "Dataset.describe()"
      ]
    },
    {
      "cell_type": "code",
      "execution_count": null,
      "metadata": {
        "colab": {
          "base_uri": "https://localhost:8080/"
        },
        "id": "7ICnmFWwwmbD",
        "outputId": "7d04a3c2-b6b6-43a3-f443-a288bff4a65f"
      },
      "outputs": [
        {
          "output_type": "execute_result",
          "data": {
            "text/plain": [
              "0        False\n",
              "1        False\n",
              "2        False\n",
              "3        False\n",
              "4        False\n",
              "         ...  \n",
              "15415    False\n",
              "15416    False\n",
              "15417    False\n",
              "15418    False\n",
              "15419    False\n",
              "Length: 15420, dtype: bool"
            ]
          },
          "metadata": {},
          "execution_count": 16
        }
      ],
      "source": [
        "#Finding Duplicate \n",
        "Dataset.duplicated(subset = None, keep = 'first')"
      ]
    },
    {
      "cell_type": "code",
      "execution_count": null,
      "metadata": {
        "colab": {
          "base_uri": "https://localhost:8080/",
          "height": 300
        },
        "id": "cGU4Rl0qwsUb",
        "outputId": "0f7a5506-90e4-42d0-a30b-2fe852924f3e"
      },
      "outputs": [
        {
          "output_type": "execute_result",
          "data": {
            "text/plain": [
              "        WeekOfMonth  WeekOfMonthClaimed           Age  PolicyNumber  \\\n",
              "count  15420.000000        15420.000000  15420.000000  15420.000000   \n",
              "mean       2.788586            2.693969     39.855707   7710.500000   \n",
              "std        1.287585            1.259115     13.492377   4451.514911   \n",
              "min        1.000000            1.000000      0.000000      1.000000   \n",
              "25%        2.000000            2.000000     31.000000   3855.750000   \n",
              "50%        3.000000            3.000000     38.000000   7710.500000   \n",
              "75%        4.000000            4.000000     48.000000  11565.250000   \n",
              "max        5.000000            5.000000     80.000000  15420.000000   \n",
              "\n",
              "          RepNumber    Deductible  DriverRating          Year  \n",
              "count  15420.000000  15420.000000  15420.000000  15420.000000  \n",
              "mean       8.483268    407.704280      2.487808   1994.866472  \n",
              "std        4.599948     43.950998      1.119453      0.803313  \n",
              "min        1.000000    300.000000      1.000000   1994.000000  \n",
              "25%        5.000000    400.000000      1.000000   1994.000000  \n",
              "50%        8.000000    400.000000      2.000000   1995.000000  \n",
              "75%       12.000000    400.000000      3.000000   1996.000000  \n",
              "max       16.000000    700.000000      4.000000   1996.000000  "
            ],
            "text/html": [
              "\n",
              "  <div id=\"df-49ef9bbc-65fe-4438-a67f-efec1804d5d4\">\n",
              "    <div class=\"colab-df-container\">\n",
              "      <div>\n",
              "<style scoped>\n",
              "    .dataframe tbody tr th:only-of-type {\n",
              "        vertical-align: middle;\n",
              "    }\n",
              "\n",
              "    .dataframe tbody tr th {\n",
              "        vertical-align: top;\n",
              "    }\n",
              "\n",
              "    .dataframe thead th {\n",
              "        text-align: right;\n",
              "    }\n",
              "</style>\n",
              "<table border=\"1\" class=\"dataframe\">\n",
              "  <thead>\n",
              "    <tr style=\"text-align: right;\">\n",
              "      <th></th>\n",
              "      <th>WeekOfMonth</th>\n",
              "      <th>WeekOfMonthClaimed</th>\n",
              "      <th>Age</th>\n",
              "      <th>PolicyNumber</th>\n",
              "      <th>RepNumber</th>\n",
              "      <th>Deductible</th>\n",
              "      <th>DriverRating</th>\n",
              "      <th>Year</th>\n",
              "    </tr>\n",
              "  </thead>\n",
              "  <tbody>\n",
              "    <tr>\n",
              "      <th>count</th>\n",
              "      <td>15420.000000</td>\n",
              "      <td>15420.000000</td>\n",
              "      <td>15420.000000</td>\n",
              "      <td>15420.000000</td>\n",
              "      <td>15420.000000</td>\n",
              "      <td>15420.000000</td>\n",
              "      <td>15420.000000</td>\n",
              "      <td>15420.000000</td>\n",
              "    </tr>\n",
              "    <tr>\n",
              "      <th>mean</th>\n",
              "      <td>2.788586</td>\n",
              "      <td>2.693969</td>\n",
              "      <td>39.855707</td>\n",
              "      <td>7710.500000</td>\n",
              "      <td>8.483268</td>\n",
              "      <td>407.704280</td>\n",
              "      <td>2.487808</td>\n",
              "      <td>1994.866472</td>\n",
              "    </tr>\n",
              "    <tr>\n",
              "      <th>std</th>\n",
              "      <td>1.287585</td>\n",
              "      <td>1.259115</td>\n",
              "      <td>13.492377</td>\n",
              "      <td>4451.514911</td>\n",
              "      <td>4.599948</td>\n",
              "      <td>43.950998</td>\n",
              "      <td>1.119453</td>\n",
              "      <td>0.803313</td>\n",
              "    </tr>\n",
              "    <tr>\n",
              "      <th>min</th>\n",
              "      <td>1.000000</td>\n",
              "      <td>1.000000</td>\n",
              "      <td>0.000000</td>\n",
              "      <td>1.000000</td>\n",
              "      <td>1.000000</td>\n",
              "      <td>300.000000</td>\n",
              "      <td>1.000000</td>\n",
              "      <td>1994.000000</td>\n",
              "    </tr>\n",
              "    <tr>\n",
              "      <th>25%</th>\n",
              "      <td>2.000000</td>\n",
              "      <td>2.000000</td>\n",
              "      <td>31.000000</td>\n",
              "      <td>3855.750000</td>\n",
              "      <td>5.000000</td>\n",
              "      <td>400.000000</td>\n",
              "      <td>1.000000</td>\n",
              "      <td>1994.000000</td>\n",
              "    </tr>\n",
              "    <tr>\n",
              "      <th>50%</th>\n",
              "      <td>3.000000</td>\n",
              "      <td>3.000000</td>\n",
              "      <td>38.000000</td>\n",
              "      <td>7710.500000</td>\n",
              "      <td>8.000000</td>\n",
              "      <td>400.000000</td>\n",
              "      <td>2.000000</td>\n",
              "      <td>1995.000000</td>\n",
              "    </tr>\n",
              "    <tr>\n",
              "      <th>75%</th>\n",
              "      <td>4.000000</td>\n",
              "      <td>4.000000</td>\n",
              "      <td>48.000000</td>\n",
              "      <td>11565.250000</td>\n",
              "      <td>12.000000</td>\n",
              "      <td>400.000000</td>\n",
              "      <td>3.000000</td>\n",
              "      <td>1996.000000</td>\n",
              "    </tr>\n",
              "    <tr>\n",
              "      <th>max</th>\n",
              "      <td>5.000000</td>\n",
              "      <td>5.000000</td>\n",
              "      <td>80.000000</td>\n",
              "      <td>15420.000000</td>\n",
              "      <td>16.000000</td>\n",
              "      <td>700.000000</td>\n",
              "      <td>4.000000</td>\n",
              "      <td>1996.000000</td>\n",
              "    </tr>\n",
              "  </tbody>\n",
              "</table>\n",
              "</div>\n",
              "      <button class=\"colab-df-convert\" onclick=\"convertToInteractive('df-49ef9bbc-65fe-4438-a67f-efec1804d5d4')\"\n",
              "              title=\"Convert this dataframe to an interactive table.\"\n",
              "              style=\"display:none;\">\n",
              "        \n",
              "  <svg xmlns=\"http://www.w3.org/2000/svg\" height=\"24px\"viewBox=\"0 0 24 24\"\n",
              "       width=\"24px\">\n",
              "    <path d=\"M0 0h24v24H0V0z\" fill=\"none\"/>\n",
              "    <path d=\"M18.56 5.44l.94 2.06.94-2.06 2.06-.94-2.06-.94-.94-2.06-.94 2.06-2.06.94zm-11 1L8.5 8.5l.94-2.06 2.06-.94-2.06-.94L8.5 2.5l-.94 2.06-2.06.94zm10 10l.94 2.06.94-2.06 2.06-.94-2.06-.94-.94-2.06-.94 2.06-2.06.94z\"/><path d=\"M17.41 7.96l-1.37-1.37c-.4-.4-.92-.59-1.43-.59-.52 0-1.04.2-1.43.59L10.3 9.45l-7.72 7.72c-.78.78-.78 2.05 0 2.83L4 21.41c.39.39.9.59 1.41.59.51 0 1.02-.2 1.41-.59l7.78-7.78 2.81-2.81c.8-.78.8-2.07 0-2.86zM5.41 20L4 18.59l7.72-7.72 1.47 1.35L5.41 20z\"/>\n",
              "  </svg>\n",
              "      </button>\n",
              "      \n",
              "  <style>\n",
              "    .colab-df-container {\n",
              "      display:flex;\n",
              "      flex-wrap:wrap;\n",
              "      gap: 12px;\n",
              "    }\n",
              "\n",
              "    .colab-df-convert {\n",
              "      background-color: #E8F0FE;\n",
              "      border: none;\n",
              "      border-radius: 50%;\n",
              "      cursor: pointer;\n",
              "      display: none;\n",
              "      fill: #1967D2;\n",
              "      height: 32px;\n",
              "      padding: 0 0 0 0;\n",
              "      width: 32px;\n",
              "    }\n",
              "\n",
              "    .colab-df-convert:hover {\n",
              "      background-color: #E2EBFA;\n",
              "      box-shadow: 0px 1px 2px rgba(60, 64, 67, 0.3), 0px 1px 3px 1px rgba(60, 64, 67, 0.15);\n",
              "      fill: #174EA6;\n",
              "    }\n",
              "\n",
              "    [theme=dark] .colab-df-convert {\n",
              "      background-color: #3B4455;\n",
              "      fill: #D2E3FC;\n",
              "    }\n",
              "\n",
              "    [theme=dark] .colab-df-convert:hover {\n",
              "      background-color: #434B5C;\n",
              "      box-shadow: 0px 1px 3px 1px rgba(0, 0, 0, 0.15);\n",
              "      filter: drop-shadow(0px 1px 2px rgba(0, 0, 0, 0.3));\n",
              "      fill: #FFFFFF;\n",
              "    }\n",
              "  </style>\n",
              "\n",
              "      <script>\n",
              "        const buttonEl =\n",
              "          document.querySelector('#df-49ef9bbc-65fe-4438-a67f-efec1804d5d4 button.colab-df-convert');\n",
              "        buttonEl.style.display =\n",
              "          google.colab.kernel.accessAllowed ? 'block' : 'none';\n",
              "\n",
              "        async function convertToInteractive(key) {\n",
              "          const element = document.querySelector('#df-49ef9bbc-65fe-4438-a67f-efec1804d5d4');\n",
              "          const dataTable =\n",
              "            await google.colab.kernel.invokeFunction('convertToInteractive',\n",
              "                                                     [key], {});\n",
              "          if (!dataTable) return;\n",
              "\n",
              "          const docLinkHtml = 'Like what you see? Visit the ' +\n",
              "            '<a target=\"_blank\" href=https://colab.research.google.com/notebooks/data_table.ipynb>data table notebook</a>'\n",
              "            + ' to learn more about interactive tables.';\n",
              "          element.innerHTML = '';\n",
              "          dataTable['output_type'] = 'display_data';\n",
              "          await google.colab.output.renderOutput(dataTable, element);\n",
              "          const docLink = document.createElement('div');\n",
              "          docLink.innerHTML = docLinkHtml;\n",
              "          element.appendChild(docLink);\n",
              "        }\n",
              "      </script>\n",
              "    </div>\n",
              "  </div>\n",
              "  "
            ]
          },
          "metadata": {},
          "execution_count": 17
        }
      ],
      "source": [
        "#No duplicate Present\n",
        "Dataset.describe()"
      ]
    },
    {
      "cell_type": "code",
      "execution_count": null,
      "metadata": {
        "colab": {
          "base_uri": "https://localhost:8080/"
        },
        "id": "Y4x3C5MYw1we",
        "outputId": "48e644ac-de22-4adc-d253-ce31eb4b8a06"
      },
      "outputs": [
        {
          "output_type": "stream",
          "name": "stdout",
          "text": [
            "      Month  WeekOfMonth  DayOfWeek     Make AccidentArea DayOfWeekClaimed  \\\n",
            "0       Dec            5  Wednesday    Honda        Urban          Tuesday   \n",
            "1       Jan            3  Wednesday    Honda        Urban           Monday   \n",
            "2       Oct            5     Friday    Honda        Urban         Thursday   \n",
            "3       Jun            2   Saturday   Toyota        Rural           Friday   \n",
            "4       Jan            5     Monday    Honda        Urban          Tuesday   \n",
            "...     ...          ...        ...      ...          ...              ...   \n",
            "15415   Nov            4     Friday   Toyota        Urban          Tuesday   \n",
            "15416   Nov            5   Thursday  Pontiac        Urban           Friday   \n",
            "15417   Nov            5   Thursday   Toyota        Rural           Friday   \n",
            "15418   Dec            1     Monday   Toyota        Urban         Thursday   \n",
            "15419   Dec            2  Wednesday   Toyota        Urban         Thursday   \n",
            "\n",
            "      MonthClaimed  WeekOfMonthClaimed     Sex MaritalStatus  ...  \\\n",
            "0              Jan                   1  Female        Single  ...   \n",
            "1              Jan                   4    Male        Single  ...   \n",
            "2              Nov                   2    Male       Married  ...   \n",
            "3              Jul                   1    Male       Married  ...   \n",
            "4              Feb                   2  Female        Single  ...   \n",
            "...            ...                 ...     ...           ...  ...   \n",
            "15415          Nov                   5    Male       Married  ...   \n",
            "15416          Dec                   1    Male       Married  ...   \n",
            "15417          Dec                   1    Male        Single  ...   \n",
            "15418          Dec                   2  Female       Married  ...   \n",
            "15419          Dec                   3    Male        Single  ...   \n",
            "\n",
            "       AgeOfPolicyHolder PoliceReportFiled WitnessPresent AgentType  \\\n",
            "0               26 to 30                No             No  External   \n",
            "1               31 to 35               Yes             No  External   \n",
            "2               41 to 50                No             No  External   \n",
            "3               51 to 65               Yes             No  External   \n",
            "4               31 to 35                No             No  External   \n",
            "...                  ...               ...            ...       ...   \n",
            "15415           31 to 35                No             No  External   \n",
            "15416           31 to 35                No             No  External   \n",
            "15417           26 to 30                No             No  External   \n",
            "15418           31 to 35                No             No  External   \n",
            "15419           26 to 30                No             No  External   \n",
            "\n",
            "      NumberOfSuppliments  AddressChange-Claim  NumberOfCars  Year  \\\n",
            "0                    none               1 year        3 to 4  1994   \n",
            "1                    none            no change     1 vehicle  1994   \n",
            "2                    none            no change     1 vehicle  1994   \n",
            "3             more than 5            no change     1 vehicle  1994   \n",
            "4                    none            no change     1 vehicle  1994   \n",
            "...                   ...                  ...           ...   ...   \n",
            "15415                none            no change     1 vehicle  1996   \n",
            "15416         more than 5            no change        3 to 4  1996   \n",
            "15417              1 to 2            no change     1 vehicle  1996   \n",
            "15418         more than 5            no change     1 vehicle  1996   \n",
            "15419              1 to 2            no change     1 vehicle  1996   \n",
            "\n",
            "       BasePolicy FraudFound  \n",
            "0       Liability         No  \n",
            "1       Collision         No  \n",
            "2       Collision         No  \n",
            "3       Liability         No  \n",
            "4       Collision         No  \n",
            "...           ...        ...  \n",
            "15415   Collision        Yes  \n",
            "15416   Liability         No  \n",
            "15417   Collision        Yes  \n",
            "15418  All Perils         No  \n",
            "15419   Collision        Yes  \n",
            "\n",
            "[15420 rows x 33 columns]\n"
          ]
        }
      ],
      "source": [
        "# drop all rows that have NaN/None values\n",
        "Dataset2=Dataset.dropna()\n",
        "print(Dataset2)"
      ]
    },
    {
      "cell_type": "code",
      "execution_count": null,
      "metadata": {
        "id": "AywYU0V_5wRq"
      },
      "outputs": [],
      "source": [
        "# Replace the Labels to 0 and 1\n",
        "Dataset2.loc[Dataset2['FraudFound'] == 'No','FraudFound'] = 0\n",
        "Dataset2.loc[Dataset2['FraudFound'] == 'Yes','FraudFound'] = 1\n",
        "\n",
        "Dataset2['FraudFound'] = Dataset2['FraudFound'].astype(int)"
      ]
    },
    {
      "cell_type": "code",
      "execution_count": null,
      "metadata": {
        "colab": {
          "base_uri": "https://localhost:8080/",
          "height": 505
        },
        "id": "MtqilKjNEClx",
        "outputId": "27ba770e-620c-41ef-eb89-4bd0df698d19"
      },
      "outputs": [
        {
          "output_type": "execute_result",
          "data": {
            "text/plain": [
              "      Month  WeekOfMonth  DayOfWeek     Make AccidentArea DayOfWeekClaimed  \\\n",
              "0       Dec            5  Wednesday    Honda        Urban          Tuesday   \n",
              "1       Jan            3  Wednesday    Honda        Urban           Monday   \n",
              "2       Oct            5     Friday    Honda        Urban         Thursday   \n",
              "3       Jun            2   Saturday   Toyota        Rural           Friday   \n",
              "4       Jan            5     Monday    Honda        Urban          Tuesday   \n",
              "...     ...          ...        ...      ...          ...              ...   \n",
              "15415   Nov            4     Friday   Toyota        Urban          Tuesday   \n",
              "15416   Nov            5   Thursday  Pontiac        Urban           Friday   \n",
              "15417   Nov            5   Thursday   Toyota        Rural           Friday   \n",
              "15418   Dec            1     Monday   Toyota        Urban         Thursday   \n",
              "15419   Dec            2  Wednesday   Toyota        Urban         Thursday   \n",
              "\n",
              "      MonthClaimed  WeekOfMonthClaimed     Sex MaritalStatus  ...  \\\n",
              "0              Jan                   1  Female        Single  ...   \n",
              "1              Jan                   4    Male        Single  ...   \n",
              "2              Nov                   2    Male       Married  ...   \n",
              "3              Jul                   1    Male       Married  ...   \n",
              "4              Feb                   2  Female        Single  ...   \n",
              "...            ...                 ...     ...           ...  ...   \n",
              "15415          Nov                   5    Male       Married  ...   \n",
              "15416          Dec                   1    Male       Married  ...   \n",
              "15417          Dec                   1    Male        Single  ...   \n",
              "15418          Dec                   2  Female       Married  ...   \n",
              "15419          Dec                   3    Male        Single  ...   \n",
              "\n",
              "       AgeOfPolicyHolder PoliceReportFiled WitnessPresent AgentType  \\\n",
              "0               26 to 30                No             No  External   \n",
              "1               31 to 35               Yes             No  External   \n",
              "2               41 to 50                No             No  External   \n",
              "3               51 to 65               Yes             No  External   \n",
              "4               31 to 35                No             No  External   \n",
              "...                  ...               ...            ...       ...   \n",
              "15415           31 to 35                No             No  External   \n",
              "15416           31 to 35                No             No  External   \n",
              "15417           26 to 30                No             No  External   \n",
              "15418           31 to 35                No             No  External   \n",
              "15419           26 to 30                No             No  External   \n",
              "\n",
              "      NumberOfSuppliments  AddressChange-Claim  NumberOfCars  Year  \\\n",
              "0                    none               1 year        3 to 4  1994   \n",
              "1                    none            no change     1 vehicle  1994   \n",
              "2                    none            no change     1 vehicle  1994   \n",
              "3             more than 5            no change     1 vehicle  1994   \n",
              "4                    none            no change     1 vehicle  1994   \n",
              "...                   ...                  ...           ...   ...   \n",
              "15415                none            no change     1 vehicle  1996   \n",
              "15416         more than 5            no change        3 to 4  1996   \n",
              "15417              1 to 2            no change     1 vehicle  1996   \n",
              "15418         more than 5            no change     1 vehicle  1996   \n",
              "15419              1 to 2            no change     1 vehicle  1996   \n",
              "\n",
              "       BasePolicy FraudFound  \n",
              "0       Liability          0  \n",
              "1       Collision          0  \n",
              "2       Collision          0  \n",
              "3       Liability          0  \n",
              "4       Collision          0  \n",
              "...           ...        ...  \n",
              "15415   Collision          1  \n",
              "15416   Liability          0  \n",
              "15417   Collision          1  \n",
              "15418  All Perils          0  \n",
              "15419   Collision          1  \n",
              "\n",
              "[15420 rows x 33 columns]"
            ],
            "text/html": [
              "\n",
              "  <div id=\"df-19ede9bc-5488-4735-b0e1-1d9bac8e00be\">\n",
              "    <div class=\"colab-df-container\">\n",
              "      <div>\n",
              "<style scoped>\n",
              "    .dataframe tbody tr th:only-of-type {\n",
              "        vertical-align: middle;\n",
              "    }\n",
              "\n",
              "    .dataframe tbody tr th {\n",
              "        vertical-align: top;\n",
              "    }\n",
              "\n",
              "    .dataframe thead th {\n",
              "        text-align: right;\n",
              "    }\n",
              "</style>\n",
              "<table border=\"1\" class=\"dataframe\">\n",
              "  <thead>\n",
              "    <tr style=\"text-align: right;\">\n",
              "      <th></th>\n",
              "      <th>Month</th>\n",
              "      <th>WeekOfMonth</th>\n",
              "      <th>DayOfWeek</th>\n",
              "      <th>Make</th>\n",
              "      <th>AccidentArea</th>\n",
              "      <th>DayOfWeekClaimed</th>\n",
              "      <th>MonthClaimed</th>\n",
              "      <th>WeekOfMonthClaimed</th>\n",
              "      <th>Sex</th>\n",
              "      <th>MaritalStatus</th>\n",
              "      <th>...</th>\n",
              "      <th>AgeOfPolicyHolder</th>\n",
              "      <th>PoliceReportFiled</th>\n",
              "      <th>WitnessPresent</th>\n",
              "      <th>AgentType</th>\n",
              "      <th>NumberOfSuppliments</th>\n",
              "      <th>AddressChange-Claim</th>\n",
              "      <th>NumberOfCars</th>\n",
              "      <th>Year</th>\n",
              "      <th>BasePolicy</th>\n",
              "      <th>FraudFound</th>\n",
              "    </tr>\n",
              "  </thead>\n",
              "  <tbody>\n",
              "    <tr>\n",
              "      <th>0</th>\n",
              "      <td>Dec</td>\n",
              "      <td>5</td>\n",
              "      <td>Wednesday</td>\n",
              "      <td>Honda</td>\n",
              "      <td>Urban</td>\n",
              "      <td>Tuesday</td>\n",
              "      <td>Jan</td>\n",
              "      <td>1</td>\n",
              "      <td>Female</td>\n",
              "      <td>Single</td>\n",
              "      <td>...</td>\n",
              "      <td>26 to 30</td>\n",
              "      <td>No</td>\n",
              "      <td>No</td>\n",
              "      <td>External</td>\n",
              "      <td>none</td>\n",
              "      <td>1 year</td>\n",
              "      <td>3 to 4</td>\n",
              "      <td>1994</td>\n",
              "      <td>Liability</td>\n",
              "      <td>0</td>\n",
              "    </tr>\n",
              "    <tr>\n",
              "      <th>1</th>\n",
              "      <td>Jan</td>\n",
              "      <td>3</td>\n",
              "      <td>Wednesday</td>\n",
              "      <td>Honda</td>\n",
              "      <td>Urban</td>\n",
              "      <td>Monday</td>\n",
              "      <td>Jan</td>\n",
              "      <td>4</td>\n",
              "      <td>Male</td>\n",
              "      <td>Single</td>\n",
              "      <td>...</td>\n",
              "      <td>31 to 35</td>\n",
              "      <td>Yes</td>\n",
              "      <td>No</td>\n",
              "      <td>External</td>\n",
              "      <td>none</td>\n",
              "      <td>no change</td>\n",
              "      <td>1 vehicle</td>\n",
              "      <td>1994</td>\n",
              "      <td>Collision</td>\n",
              "      <td>0</td>\n",
              "    </tr>\n",
              "    <tr>\n",
              "      <th>2</th>\n",
              "      <td>Oct</td>\n",
              "      <td>5</td>\n",
              "      <td>Friday</td>\n",
              "      <td>Honda</td>\n",
              "      <td>Urban</td>\n",
              "      <td>Thursday</td>\n",
              "      <td>Nov</td>\n",
              "      <td>2</td>\n",
              "      <td>Male</td>\n",
              "      <td>Married</td>\n",
              "      <td>...</td>\n",
              "      <td>41 to 50</td>\n",
              "      <td>No</td>\n",
              "      <td>No</td>\n",
              "      <td>External</td>\n",
              "      <td>none</td>\n",
              "      <td>no change</td>\n",
              "      <td>1 vehicle</td>\n",
              "      <td>1994</td>\n",
              "      <td>Collision</td>\n",
              "      <td>0</td>\n",
              "    </tr>\n",
              "    <tr>\n",
              "      <th>3</th>\n",
              "      <td>Jun</td>\n",
              "      <td>2</td>\n",
              "      <td>Saturday</td>\n",
              "      <td>Toyota</td>\n",
              "      <td>Rural</td>\n",
              "      <td>Friday</td>\n",
              "      <td>Jul</td>\n",
              "      <td>1</td>\n",
              "      <td>Male</td>\n",
              "      <td>Married</td>\n",
              "      <td>...</td>\n",
              "      <td>51 to 65</td>\n",
              "      <td>Yes</td>\n",
              "      <td>No</td>\n",
              "      <td>External</td>\n",
              "      <td>more than 5</td>\n",
              "      <td>no change</td>\n",
              "      <td>1 vehicle</td>\n",
              "      <td>1994</td>\n",
              "      <td>Liability</td>\n",
              "      <td>0</td>\n",
              "    </tr>\n",
              "    <tr>\n",
              "      <th>4</th>\n",
              "      <td>Jan</td>\n",
              "      <td>5</td>\n",
              "      <td>Monday</td>\n",
              "      <td>Honda</td>\n",
              "      <td>Urban</td>\n",
              "      <td>Tuesday</td>\n",
              "      <td>Feb</td>\n",
              "      <td>2</td>\n",
              "      <td>Female</td>\n",
              "      <td>Single</td>\n",
              "      <td>...</td>\n",
              "      <td>31 to 35</td>\n",
              "      <td>No</td>\n",
              "      <td>No</td>\n",
              "      <td>External</td>\n",
              "      <td>none</td>\n",
              "      <td>no change</td>\n",
              "      <td>1 vehicle</td>\n",
              "      <td>1994</td>\n",
              "      <td>Collision</td>\n",
              "      <td>0</td>\n",
              "    </tr>\n",
              "    <tr>\n",
              "      <th>...</th>\n",
              "      <td>...</td>\n",
              "      <td>...</td>\n",
              "      <td>...</td>\n",
              "      <td>...</td>\n",
              "      <td>...</td>\n",
              "      <td>...</td>\n",
              "      <td>...</td>\n",
              "      <td>...</td>\n",
              "      <td>...</td>\n",
              "      <td>...</td>\n",
              "      <td>...</td>\n",
              "      <td>...</td>\n",
              "      <td>...</td>\n",
              "      <td>...</td>\n",
              "      <td>...</td>\n",
              "      <td>...</td>\n",
              "      <td>...</td>\n",
              "      <td>...</td>\n",
              "      <td>...</td>\n",
              "      <td>...</td>\n",
              "      <td>...</td>\n",
              "    </tr>\n",
              "    <tr>\n",
              "      <th>15415</th>\n",
              "      <td>Nov</td>\n",
              "      <td>4</td>\n",
              "      <td>Friday</td>\n",
              "      <td>Toyota</td>\n",
              "      <td>Urban</td>\n",
              "      <td>Tuesday</td>\n",
              "      <td>Nov</td>\n",
              "      <td>5</td>\n",
              "      <td>Male</td>\n",
              "      <td>Married</td>\n",
              "      <td>...</td>\n",
              "      <td>31 to 35</td>\n",
              "      <td>No</td>\n",
              "      <td>No</td>\n",
              "      <td>External</td>\n",
              "      <td>none</td>\n",
              "      <td>no change</td>\n",
              "      <td>1 vehicle</td>\n",
              "      <td>1996</td>\n",
              "      <td>Collision</td>\n",
              "      <td>1</td>\n",
              "    </tr>\n",
              "    <tr>\n",
              "      <th>15416</th>\n",
              "      <td>Nov</td>\n",
              "      <td>5</td>\n",
              "      <td>Thursday</td>\n",
              "      <td>Pontiac</td>\n",
              "      <td>Urban</td>\n",
              "      <td>Friday</td>\n",
              "      <td>Dec</td>\n",
              "      <td>1</td>\n",
              "      <td>Male</td>\n",
              "      <td>Married</td>\n",
              "      <td>...</td>\n",
              "      <td>31 to 35</td>\n",
              "      <td>No</td>\n",
              "      <td>No</td>\n",
              "      <td>External</td>\n",
              "      <td>more than 5</td>\n",
              "      <td>no change</td>\n",
              "      <td>3 to 4</td>\n",
              "      <td>1996</td>\n",
              "      <td>Liability</td>\n",
              "      <td>0</td>\n",
              "    </tr>\n",
              "    <tr>\n",
              "      <th>15417</th>\n",
              "      <td>Nov</td>\n",
              "      <td>5</td>\n",
              "      <td>Thursday</td>\n",
              "      <td>Toyota</td>\n",
              "      <td>Rural</td>\n",
              "      <td>Friday</td>\n",
              "      <td>Dec</td>\n",
              "      <td>1</td>\n",
              "      <td>Male</td>\n",
              "      <td>Single</td>\n",
              "      <td>...</td>\n",
              "      <td>26 to 30</td>\n",
              "      <td>No</td>\n",
              "      <td>No</td>\n",
              "      <td>External</td>\n",
              "      <td>1 to 2</td>\n",
              "      <td>no change</td>\n",
              "      <td>1 vehicle</td>\n",
              "      <td>1996</td>\n",
              "      <td>Collision</td>\n",
              "      <td>1</td>\n",
              "    </tr>\n",
              "    <tr>\n",
              "      <th>15418</th>\n",
              "      <td>Dec</td>\n",
              "      <td>1</td>\n",
              "      <td>Monday</td>\n",
              "      <td>Toyota</td>\n",
              "      <td>Urban</td>\n",
              "      <td>Thursday</td>\n",
              "      <td>Dec</td>\n",
              "      <td>2</td>\n",
              "      <td>Female</td>\n",
              "      <td>Married</td>\n",
              "      <td>...</td>\n",
              "      <td>31 to 35</td>\n",
              "      <td>No</td>\n",
              "      <td>No</td>\n",
              "      <td>External</td>\n",
              "      <td>more than 5</td>\n",
              "      <td>no change</td>\n",
              "      <td>1 vehicle</td>\n",
              "      <td>1996</td>\n",
              "      <td>All Perils</td>\n",
              "      <td>0</td>\n",
              "    </tr>\n",
              "    <tr>\n",
              "      <th>15419</th>\n",
              "      <td>Dec</td>\n",
              "      <td>2</td>\n",
              "      <td>Wednesday</td>\n",
              "      <td>Toyota</td>\n",
              "      <td>Urban</td>\n",
              "      <td>Thursday</td>\n",
              "      <td>Dec</td>\n",
              "      <td>3</td>\n",
              "      <td>Male</td>\n",
              "      <td>Single</td>\n",
              "      <td>...</td>\n",
              "      <td>26 to 30</td>\n",
              "      <td>No</td>\n",
              "      <td>No</td>\n",
              "      <td>External</td>\n",
              "      <td>1 to 2</td>\n",
              "      <td>no change</td>\n",
              "      <td>1 vehicle</td>\n",
              "      <td>1996</td>\n",
              "      <td>Collision</td>\n",
              "      <td>1</td>\n",
              "    </tr>\n",
              "  </tbody>\n",
              "</table>\n",
              "<p>15420 rows × 33 columns</p>\n",
              "</div>\n",
              "      <button class=\"colab-df-convert\" onclick=\"convertToInteractive('df-19ede9bc-5488-4735-b0e1-1d9bac8e00be')\"\n",
              "              title=\"Convert this dataframe to an interactive table.\"\n",
              "              style=\"display:none;\">\n",
              "        \n",
              "  <svg xmlns=\"http://www.w3.org/2000/svg\" height=\"24px\"viewBox=\"0 0 24 24\"\n",
              "       width=\"24px\">\n",
              "    <path d=\"M0 0h24v24H0V0z\" fill=\"none\"/>\n",
              "    <path d=\"M18.56 5.44l.94 2.06.94-2.06 2.06-.94-2.06-.94-.94-2.06-.94 2.06-2.06.94zm-11 1L8.5 8.5l.94-2.06 2.06-.94-2.06-.94L8.5 2.5l-.94 2.06-2.06.94zm10 10l.94 2.06.94-2.06 2.06-.94-2.06-.94-.94-2.06-.94 2.06-2.06.94z\"/><path d=\"M17.41 7.96l-1.37-1.37c-.4-.4-.92-.59-1.43-.59-.52 0-1.04.2-1.43.59L10.3 9.45l-7.72 7.72c-.78.78-.78 2.05 0 2.83L4 21.41c.39.39.9.59 1.41.59.51 0 1.02-.2 1.41-.59l7.78-7.78 2.81-2.81c.8-.78.8-2.07 0-2.86zM5.41 20L4 18.59l7.72-7.72 1.47 1.35L5.41 20z\"/>\n",
              "  </svg>\n",
              "      </button>\n",
              "      \n",
              "  <style>\n",
              "    .colab-df-container {\n",
              "      display:flex;\n",
              "      flex-wrap:wrap;\n",
              "      gap: 12px;\n",
              "    }\n",
              "\n",
              "    .colab-df-convert {\n",
              "      background-color: #E8F0FE;\n",
              "      border: none;\n",
              "      border-radius: 50%;\n",
              "      cursor: pointer;\n",
              "      display: none;\n",
              "      fill: #1967D2;\n",
              "      height: 32px;\n",
              "      padding: 0 0 0 0;\n",
              "      width: 32px;\n",
              "    }\n",
              "\n",
              "    .colab-df-convert:hover {\n",
              "      background-color: #E2EBFA;\n",
              "      box-shadow: 0px 1px 2px rgba(60, 64, 67, 0.3), 0px 1px 3px 1px rgba(60, 64, 67, 0.15);\n",
              "      fill: #174EA6;\n",
              "    }\n",
              "\n",
              "    [theme=dark] .colab-df-convert {\n",
              "      background-color: #3B4455;\n",
              "      fill: #D2E3FC;\n",
              "    }\n",
              "\n",
              "    [theme=dark] .colab-df-convert:hover {\n",
              "      background-color: #434B5C;\n",
              "      box-shadow: 0px 1px 3px 1px rgba(0, 0, 0, 0.15);\n",
              "      filter: drop-shadow(0px 1px 2px rgba(0, 0, 0, 0.3));\n",
              "      fill: #FFFFFF;\n",
              "    }\n",
              "  </style>\n",
              "\n",
              "      <script>\n",
              "        const buttonEl =\n",
              "          document.querySelector('#df-19ede9bc-5488-4735-b0e1-1d9bac8e00be button.colab-df-convert');\n",
              "        buttonEl.style.display =\n",
              "          google.colab.kernel.accessAllowed ? 'block' : 'none';\n",
              "\n",
              "        async function convertToInteractive(key) {\n",
              "          const element = document.querySelector('#df-19ede9bc-5488-4735-b0e1-1d9bac8e00be');\n",
              "          const dataTable =\n",
              "            await google.colab.kernel.invokeFunction('convertToInteractive',\n",
              "                                                     [key], {});\n",
              "          if (!dataTable) return;\n",
              "\n",
              "          const docLinkHtml = 'Like what you see? Visit the ' +\n",
              "            '<a target=\"_blank\" href=https://colab.research.google.com/notebooks/data_table.ipynb>data table notebook</a>'\n",
              "            + ' to learn more about interactive tables.';\n",
              "          element.innerHTML = '';\n",
              "          dataTable['output_type'] = 'display_data';\n",
              "          await google.colab.output.renderOutput(dataTable, element);\n",
              "          const docLink = document.createElement('div');\n",
              "          docLink.innerHTML = docLinkHtml;\n",
              "          element.appendChild(docLink);\n",
              "        }\n",
              "      </script>\n",
              "    </div>\n",
              "  </div>\n",
              "  "
            ]
          },
          "metadata": {},
          "execution_count": 20
        }
      ],
      "source": [
        "Dataset2"
      ]
    },
    {
      "cell_type": "markdown",
      "metadata": {
        "id": "HvGDZSEoxK08"
      },
      "source": [
        "**EDA / Visualization**"
      ]
    },
    {
      "cell_type": "markdown",
      "metadata": {
        "id": "cN_Y5x6rRkqU"
      },
      "source": [
        "Month - Month in which accident took place\n",
        "\n",
        "Week of Month - Accident week of month\n",
        "\n",
        "Day of Week - Accident day of week\n",
        "\n",
        "Make - Manufacturer of the car (19 companies)\n",
        "\n",
        "Accident Area - Rural or Urban\n",
        "\n",
        "Day of Week Claimed - Claim day of week\n",
        "\n",
        "Month Claimed - Claim month\n",
        "\n",
        "Week of Month Claimed - Claim week of month\n",
        "\n",
        "Sex - Male or Female\n",
        "\n",
        "Marital Status - Single, Married, Widow and Divorced\n",
        "\n",
        "Age - Age of policy holder\n",
        "\n",
        "Fault - Policy Holder or Third Party\n",
        "\n",
        "Policy Type - Type of policy (1 to 9)\n",
        "Vehicle Category - Sedan, Sport or Utility\n",
        "\n",
        "Vehicle Price - Price of the vehicle with 6 categories\n",
        "\n",
        "Policy Number- Index of the Policy\n",
        "\n",
        "Rep. Number - ID of the person who process the claim (16 IDs)\n",
        "\n",
        "Deductible - Amount to be deducted before claim disbursement\n",
        "\n",
        "Driver Rating - Driving Experience with 4 categories\n",
        "\n",
        "Days Policy Accident - Days left in policy when accident happened\n",
        "\n",
        "Days Policy Claim - Days left in policy when claim was filed\n",
        "\n",
        "Past number of Claims - Past number of claims\n",
        "\n",
        "Age of Vehicle - Vehicle's age with 8 categories\n",
        "\n",
        "Age of Policy Holder - Policy \n",
        "holder's age with 9 categories\n",
        "\n",
        "Police Report Filed – Yes (1) or no (0)\n",
        "\n",
        "Witness Present – Yes (1) or no (0)\n",
        "\n",
        "Agent Type - Internal or External\n",
        "\n",
        "Number of Supplements - Number of supplements\n",
        "\n",
        "Address Change Claim – No. of times change of address requested\n",
        "\n",
        "Number of Cars - Number of cars owned by the person claiming insurance\n",
        "\n",
        "Year - 1994, 1995 and 1996\n",
        "\n",
        "Base Policy - All perils, Collision or Liability\n",
        "\n",
        "FraudFound_P - Fraud found (yes '1' or no '0')"
      ]
    },
    {
      "cell_type": "code",
      "execution_count": null,
      "metadata": {
        "id": "usouZDg3xCoF"
      },
      "outputs": [],
      "source": [
        "import matplotlib.pyplot as plt\n",
        "import seaborn as sns"
      ]
    },
    {
      "cell_type": "code",
      "execution_count": null,
      "metadata": {
        "colab": {
          "base_uri": "https://localhost:8080/",
          "height": 591
        },
        "id": "aHWDTso75pRX",
        "outputId": "481c1e43-32de-4dbc-b366-0e9784f2d2e7"
      },
      "outputs": [
        {
          "output_type": "display_data",
          "data": {
            "text/plain": [
              "<Figure size 1440x720 with 1 Axes>"
            ],
            "image/png": "[encoded data removed]"
          },
          "metadata": {}
        }
      ],
      "source": [
        "#Fraud Type Percentage\n",
        "plt.figure(figsize=(20,10))\n",
        "plt.pie(Dataset2.FraudFound.value_counts().values,labels=Dataset2.FraudFound.value_counts().index,  autopct='%.0f%%')\n",
        "plt.title(\"Fraud Type\")\n",
        "plt.show()"
      ]
    },
    {
      "cell_type": "code",
      "execution_count": null,
      "metadata": {
        "colab": {
          "base_uri": "https://localhost:8080/",
          "height": 482
        },
        "id": "BokPg8XYQ18W",
        "outputId": "d4580fa4-e0b8-4d76-8348-19ff5fef1868"
      },
      "outputs": [
        {
          "data": {
            "image/png": "[encoded data removed]",
            "text/plain": [
              "<Figure size 720x576 with 1 Axes>"
            ]
          },
          "metadata": {},
          "output_type": "display_data"
        }
      ],
      "source": [
        "accidentArea = Dataset2.groupby('AccidentArea')['FraudFound'].sum()\n",
        "\n",
        "plt.figure(figsize=(10,8))\n",
        "plt.title(\"AccidentArea Vs Frauds\")\n",
        "\n",
        "plt.pie(accidentArea.values,labels=accidentArea.index,  autopct='%.0f%%')\n",
        "\n",
        "plt.show()"
      ]
    },
    {
      "cell_type": "code",
      "execution_count": null,
      "metadata": {
        "colab": {
          "base_uri": "https://localhost:8080/",
          "height": 289
        },
        "id": "qOkGIL2TV_2I",
        "outputId": "eef04ffe-d4eb-44a7-8a2b-e791004cecbb"
      },
      "outputs": [
        {
          "data": {
            "image/png": "[encoded data removed]",
            "text/plain": [
              "<Figure size 1440x576 with 1 Axes>"
            ]
          },
          "metadata": {},
          "output_type": "display_data"
        }
      ],
      "source": [
        "policyAge = Dataset2.groupby('AgeOfPolicyHolder')['FraudFound'].sum()\n",
        "plt.figure(figsize=(20,8))\n",
        "plt.title(\"Policy Holder's Age Vs Frauds\")\n",
        "\n",
        "ax = sns.barplot(x=policyAge.index,y=policyAge.values)\n",
        "for p in ax.patches:\n",
        "    ax.annotate(str(format(int(p.get_height()), ',d')), (p.get_x()+0.24, p.get_height()*1.01))\n",
        "plt.xlabel(\"Policy Holder's Age\")\n",
        "plt.ylabel(\"Number of Fraud\");\n",
        "plt.yticks([])\n",
        "plt.show()"
      ]
    },
    {
      "cell_type": "code",
      "execution_count": null,
      "metadata": {
        "colab": {
          "base_uri": "https://localhost:8080/",
          "height": 482
        },
        "id": "IFE4gv8SX_Ev",
        "outputId": "29574ac9-d6cc-4e3b-c4c7-ce88807dd491"
      },
      "outputs": [
        {
          "data": {
            "image/png": "[encoded data removed]",
            "text/plain": [
              "<Figure size 720x576 with 1 Axes>"
            ]
          },
          "metadata": {},
          "output_type": "display_data"
        }
      ],
      "source": [
        "gender = Dataset2.groupby('Sex')['FraudFound'].sum()\n",
        "plt.figure(figsize=(10,8))\n",
        "plt.title(\"Gender Vs Frauds\")\n",
        "\n",
        "plt.pie(gender.values,labels=gender.index,  autopct='%.0f%%')\n",
        "\n",
        "plt.show()"
      ]
    },
    {
      "cell_type": "code",
      "execution_count": null,
      "metadata": {
        "colab": {
          "base_uri": "https://localhost:8080/",
          "height": 482
        },
        "id": "OxlswP5sYiuV",
        "outputId": "e1b88256-ca47-4498-d20d-8b7d9b0b4a25"
      },
      "outputs": [
        {
          "data": {
            "image/png": "[encoded data removed]",
            "text/plain": [
              "<Figure size 720x576 with 1 Axes>"
            ]
          },
          "metadata": {},
          "output_type": "display_data"
        }
      ],
      "source": [
        "fault = Dataset2.groupby('Fault')['FraudFound'].sum()\n",
        "\n",
        "plt.figure(figsize=(10,8))\n",
        "plt.title(\"Fault Vs Frauds\")\n",
        "plt.pie(fault.values,labels=fault.index,  autopct='%.0f%%')\n",
        "plt.show()"
      ]
    },
    {
      "cell_type": "code",
      "execution_count": null,
      "metadata": {
        "colab": {
          "base_uri": "https://localhost:8080/",
          "height": 289
        },
        "id": "yKkI8bOYY2BM",
        "outputId": "520440c1-c4b4-4415-8f93-fbd563c9caf6"
      },
      "outputs": [
        {
          "data": {
            "image/png": "[encoded data removed]",
            "text/plain": [
              "<Figure size 1440x576 with 1 Axes>"
            ]
          },
          "metadata": {},
          "output_type": "display_data"
        }
      ],
      "source": [
        "cars = Dataset2.groupby('NumberOfCars')['FraudFound'].sum()\n",
        "plt.figure(figsize=(20,8))\n",
        "plt.title(\"Cars Involved Vs Frauds\")\n",
        "\n",
        "ax = sns.barplot(x=cars.index,y=cars.values)\n",
        "for p in ax.patches:\n",
        "    ax.annotate(str(format(int(p.get_height()), ',d')), (p.get_x()+0.4, p.get_height()*1.01))\n",
        "plt.xlabel(\"Cars Involved\")\n",
        "plt.ylabel(\"Number of Fraud\");\n",
        "plt.yticks([])\n",
        "plt.show()"
      ]
    },
    {
      "cell_type": "code",
      "execution_count": null,
      "metadata": {
        "colab": {
          "base_uri": "https://localhost:8080/",
          "height": 350
        },
        "id": "BbjjWboFbSdX",
        "outputId": "df4f0c1e-8477-4ba9-bd75-1b57453511e4"
      },
      "outputs": [
        {
          "data": {
            "image/png": "[encoded data removed]",
            "text/plain": [
              "<Figure size 720x360 with 1 Axes>"
            ]
          },
          "metadata": {},
          "output_type": "display_data"
        }
      ],
      "source": [
        "fraud = Dataset2[Dataset2['FraudFound'] == 1]\n",
        "plt.figure(figsize=(10,5))\n",
        "plt.title(\"Marital Status Vs Frauds\")\n",
        "sns.countplot(x=fraud['MaritalStatus']);\n",
        "plt.xlabel(\"Marital Status\")\n",
        "plt.ylabel(\"Number of Fraud\");"
      ]
    },
    {
      "cell_type": "code",
      "execution_count": null,
      "metadata": {
        "colab": {
          "base_uri": "https://localhost:8080/",
          "height": 350
        },
        "id": "A44_HG97-0tz",
        "outputId": "1f4f7231-0afa-4e9a-ee73-8bd88a8c55bc"
      },
      "outputs": [
        {
          "data": {
            "image/png": "[encoded data removed]",
            "text/plain": [
              "<Figure size 720x360 with 1 Axes>"
            ]
          },
          "metadata": {},
          "output_type": "display_data"
        }
      ],
      "source": [
        "fraud = Dataset2[Dataset2['FraudFound'] == 1]\n",
        "plt.figure(figsize=(10,5))\n",
        "plt.title(\"Driver Rating Vs Frauds\")\n",
        "sns.countplot(x=fraud['DriverRating']);\n",
        "plt.xlabel(\"Driver Rating\")\n",
        "plt.ylabel(\"Number of Fraud\");"
      ]
    },
    {
      "cell_type": "code",
      "execution_count": null,
      "metadata": {
        "colab": {
          "base_uri": "https://localhost:8080/",
          "height": 289
        },
        "id": "A9H-jliGfH-0",
        "outputId": "7fe2f84f-9050-4bf3-8b2f-8281ab1a10ca"
      },
      "outputs": [
        {
          "data": {
            "image/png": "[encoded data removed]",
            "text/plain": [
              "<Figure size 1440x576 with 1 Axes>"
            ]
          },
          "metadata": {},
          "output_type": "display_data"
        }
      ],
      "source": [
        "make = Dataset2.groupby('Make')['FraudFound'].sum()\n",
        "plt.figure(figsize=(20,8))\n",
        "plt.title(\"Car Make Vs Frauds\")\n",
        "\n",
        "ax = sns.barplot(x=make.index,y=make.values)\n",
        "for p in ax.patches:\n",
        "    ax.annotate(str(format(int(p.get_height()), ',d')), (p.get_x()+0.24, p.get_height()*1.01))\n",
        "plt.xlabel(\"Car Make\")\n",
        "plt.ylabel(\"Number of Fraud\");\n",
        "plt.yticks([])\n",
        "plt.show()"
      ]
    },
    {
      "cell_type": "code",
      "execution_count": null,
      "metadata": {
        "colab": {
          "base_uri": "https://localhost:8080/",
          "height": 585
        },
        "id": "OuLQifDQf4YS",
        "outputId": "c81d143d-bb1b-4b9b-e414-87040e27b747"
      },
      "outputs": [
        {
          "data": {
            "image/png": "[encoded data removed]",
            "text/plain": [
              "<Figure size 864x720 with 2 Axes>"
            ]
          },
          "metadata": {},
          "output_type": "display_data"
        }
      ],
      "source": [
        "plt.figure(figsize=(12,10))\n",
        "cor = Dataset2.corr()\n",
        "sns.heatmap(cor, annot=True, cmap=plt.cm.Reds)\n",
        "plt.show()"
      ]
    },
    {
      "cell_type": "code",
      "execution_count": null,
      "metadata": {
        "colab": {
          "base_uri": "https://localhost:8080/"
        },
        "id": "dSHG3sg_zPoC",
        "outputId": "1bf998e3-b2e9-4df3-c4e8-01f9140dfc83"
      },
      "outputs": [
        {
          "output_type": "execute_result",
          "data": {
            "text/plain": [
              "Month                      12\n",
              "WeekOfMonth                 5\n",
              "DayOfWeek                   7\n",
              "Make                       19\n",
              "AccidentArea                2\n",
              "DayOfWeekClaimed            8\n",
              "MonthClaimed               13\n",
              "WeekOfMonthClaimed          5\n",
              "Sex                         2\n",
              "MaritalStatus               4\n",
              "Age                        66\n",
              "Fault                       2\n",
              "PolicyType                  9\n",
              "VehicleCategory             3\n",
              "VehiclePrice                6\n",
              "PolicyNumber            15420\n",
              "RepNumber                  16\n",
              "Deductible                  4\n",
              "DriverRating                4\n",
              "Days:Policy-Accident        5\n",
              "Days:Policy-Claim           4\n",
              "PastNumberOfClaims          4\n",
              "AgeOfVehicle                8\n",
              "AgeOfPolicyHolder           9\n",
              "PoliceReportFiled           2\n",
              "WitnessPresent              2\n",
              "AgentType                   2\n",
              "NumberOfSuppliments         4\n",
              "AddressChange-Claim         5\n",
              "NumberOfCars                5\n",
              "Year                        3\n",
              "BasePolicy                  3\n",
              "FraudFound                  2\n",
              "dtype: int64"
            ]
          },
          "metadata": {},
          "execution_count": 23
        }
      ],
      "source": [
        "Dataset2.nunique().T"
      ]
    },
    {
      "cell_type": "markdown",
      "metadata": {
        "id": "HCqckAIrAfzz"
      },
      "source": [
        "**Conclusions:**\n",
        "\n",
        "PolicyNumber is unique, and the level at which predictions should be made. We will create nodes and make this a node classification problem.\n",
        "\n",
        "\n",
        "Attributes with a handful of unique are candidates for (categorical) features of nodes \n",
        "\n",
        "\n",
        "DiverRating will be the Edge \n",
        "\n",
        "FraudFound is the label \n",
        "\n"
      ]
    },
    {
      "cell_type": "code",
      "execution_count": null,
      "metadata": {
        "id": "7O63etMJz45u"
      },
      "outputs": [],
      "source": [
        "#selected based on discretion \n",
        "df = Dataset2[['PolicyNumber','AccidentArea','Sex',\\\n",
        "       'MaritalStatus','Fault','DriverRating','RepNumber',\\\n",
        "       'PoliceReportFiled', 'WitnessPresent',\\\n",
        "       'BasePolicy', 'FraudFound']]"
      ]
    },
    {
      "cell_type": "markdown",
      "metadata": {
        "id": "HLKbjp5IXurc"
      },
      "source": [
        "**Experiment 1**"
      ]
    },
    {
      "cell_type": "markdown",
      "metadata": {
        "id": "wbQx4bIyAW2j"
      },
      "source": [
        "**Converting Dataset to Graph Data**"
      ]
    },
    {
      "cell_type": "code",
      "execution_count": null,
      "metadata": {
        "colab": {
          "base_uri": "https://localhost:8080/"
        },
        "id": "qCQKQ32OAbUZ",
        "outputId": "b80248b3-3657-4a1b-efcb-3663ab5c2000"
      },
      "outputs": [
        {
          "output_type": "execute_result",
          "data": {
            "text/plain": [
              "1"
            ]
          },
          "metadata": {},
          "execution_count": 25
        }
      ],
      "source": [
        "max(df[\"PolicyNumber\"].value_counts())"
      ]
    },
    {
      "cell_type": "markdown",
      "metadata": {
        "id": "W6o5ZExGzWam"
      },
      "source": [
        "NODE"
      ]
    },
    {
      "cell_type": "code",
      "execution_count": null,
      "metadata": {
        "id": "TXvaJk5xTUJc"
      },
      "outputs": [],
      "source": [
        "# Sort to define the order of nodes\n",
        "sorted_df = df.sort_values(by=\"PolicyNumber\")\n",
        "# Select node features\n",
        "node_features = sorted_df[['AccidentArea','Sex',\\\n",
        "       'MaritalStatus','Fault','RepNumber','BasePolicy',\\\n",
        "       'PoliceReportFiled', 'WitnessPresent']]"
      ]
    },
    {
      "cell_type": "code",
      "execution_count": null,
      "metadata": {
        "id": "aHov7jcnTekk"
      },
      "outputs": [],
      "source": [
        "# Convert non-numeric columns\n",
        "pd.set_option('mode.chained_assignment', None)\n",
        "#positions = node_features.str.split(\",\", expand=True)\n",
        "#node_features[\"first_position\"] = positions[0]"
      ]
    },
    {
      "cell_type": "code",
      "execution_count": null,
      "metadata": {
        "id": "iigXKHLOUfJK"
      },
      "outputs": [],
      "source": [
        "X_ohe = pd.get_dummies(node_features.astype(str), drop_first=True)\n"
      ]
    },
    {
      "cell_type": "code",
      "execution_count": null,
      "metadata": {
        "colab": {
          "base_uri": "https://localhost:8080/",
          "height": 317
        },
        "id": "EbZTr7yiywKb",
        "outputId": "07f7e2d8-0675-490d-fdb6-9d8959fe0067"
      },
      "outputs": [
        {
          "output_type": "execute_result",
          "data": {
            "text/plain": [
              "   AccidentArea_Urban  Sex_Male  MaritalStatus_Married  MaritalStatus_Single  \\\n",
              "0                   1         0                      0                     1   \n",
              "1                   1         1                      0                     1   \n",
              "2                   1         1                      1                     0   \n",
              "3                   0         1                      1                     0   \n",
              "4                   1         0                      0                     1   \n",
              "\n",
              "   MaritalStatus_Widow  Fault_Third Party  RepNumber_10  RepNumber_11  \\\n",
              "0                    0                  0             0             0   \n",
              "1                    0                  0             0             0   \n",
              "2                    0                  0             0             0   \n",
              "3                    0                  1             0             0   \n",
              "4                    0                  1             0             0   \n",
              "\n",
              "   RepNumber_12  RepNumber_13  ...  RepNumber_4  RepNumber_5  RepNumber_6  \\\n",
              "0             1             0  ...            0            0            0   \n",
              "1             0             0  ...            0            0            0   \n",
              "2             0             0  ...            0            0            0   \n",
              "3             0             0  ...            1            0            0   \n",
              "4             0             0  ...            0            0            0   \n",
              "\n",
              "   RepNumber_7  RepNumber_8  RepNumber_9  BasePolicy_Collision  \\\n",
              "0            0            0            0                     0   \n",
              "1            0            0            0                     1   \n",
              "2            1            0            0                     1   \n",
              "3            0            0            0                     0   \n",
              "4            0            0            0                     1   \n",
              "\n",
              "   BasePolicy_Liability  PoliceReportFiled_Yes  WitnessPresent_Yes  \n",
              "0                     1                      0                   0  \n",
              "1                     0                      1                   0  \n",
              "2                     0                      0                   0  \n",
              "3                     1                      1                   0  \n",
              "4                     0                      0                   0  \n",
              "\n",
              "[5 rows x 25 columns]"
            ],
            "text/html": [
              "\n",
              "  <div id=\"df-48e44eec-a408-41d7-9c0b-e39053635e6a\">\n",
              "    <div class=\"colab-df-container\">\n",
              "      <div>\n",
              "<style scoped>\n",
              "    .dataframe tbody tr th:only-of-type {\n",
              "        vertical-align: middle;\n",
              "    }\n",
              "\n",
              "    .dataframe tbody tr th {\n",
              "        vertical-align: top;\n",
              "    }\n",
              "\n",
              "    .dataframe thead th {\n",
              "        text-align: right;\n",
              "    }\n",
              "</style>\n",
              "<table border=\"1\" class=\"dataframe\">\n",
              "  <thead>\n",
              "    <tr style=\"text-align: right;\">\n",
              "      <th></th>\n",
              "      <th>AccidentArea_Urban</th>\n",
              "      <th>Sex_Male</th>\n",
              "      <th>MaritalStatus_Married</th>\n",
              "      <th>MaritalStatus_Single</th>\n",
              "      <th>MaritalStatus_Widow</th>\n",
              "      <th>Fault_Third Party</th>\n",
              "      <th>RepNumber_10</th>\n",
              "      <th>RepNumber_11</th>\n",
              "      <th>RepNumber_12</th>\n",
              "      <th>RepNumber_13</th>\n",
              "      <th>...</th>\n",
              "      <th>RepNumber_4</th>\n",
              "      <th>RepNumber_5</th>\n",
              "      <th>RepNumber_6</th>\n",
              "      <th>RepNumber_7</th>\n",
              "      <th>RepNumber_8</th>\n",
              "      <th>RepNumber_9</th>\n",
              "      <th>BasePolicy_Collision</th>\n",
              "      <th>BasePolicy_Liability</th>\n",
              "      <th>PoliceReportFiled_Yes</th>\n",
              "      <th>WitnessPresent_Yes</th>\n",
              "    </tr>\n",
              "  </thead>\n",
              "  <tbody>\n",
              "    <tr>\n",
              "      <th>0</th>\n",
              "      <td>1</td>\n",
              "      <td>0</td>\n",
              "      <td>0</td>\n",
              "      <td>1</td>\n",
              "      <td>0</td>\n",
              "      <td>0</td>\n",
              "      <td>0</td>\n",
              "      <td>0</td>\n",
              "      <td>1</td>\n",
              "      <td>0</td>\n",
              "      <td>...</td>\n",
              "      <td>0</td>\n",
              "      <td>0</td>\n",
              "      <td>0</td>\n",
              "      <td>0</td>\n",
              "      <td>0</td>\n",
              "      <td>0</td>\n",
              "      <td>0</td>\n",
              "      <td>1</td>\n",
              "      <td>0</td>\n",
              "      <td>0</td>\n",
              "    </tr>\n",
              "    <tr>\n",
              "      <th>1</th>\n",
              "      <td>1</td>\n",
              "      <td>1</td>\n",
              "      <td>0</td>\n",
              "      <td>1</td>\n",
              "      <td>0</td>\n",
              "      <td>0</td>\n",
              "      <td>0</td>\n",
              "      <td>0</td>\n",
              "      <td>0</td>\n",
              "      <td>0</td>\n",
              "      <td>...</td>\n",
              "      <td>0</td>\n",
              "      <td>0</td>\n",
              "      <td>0</td>\n",
              "      <td>0</td>\n",
              "      <td>0</td>\n",
              "      <td>0</td>\n",
              "      <td>1</td>\n",
              "      <td>0</td>\n",
              "      <td>1</td>\n",
              "      <td>0</td>\n",
              "    </tr>\n",
              "    <tr>\n",
              "      <th>2</th>\n",
              "      <td>1</td>\n",
              "      <td>1</td>\n",
              "      <td>1</td>\n",
              "      <td>0</td>\n",
              "      <td>0</td>\n",
              "      <td>0</td>\n",
              "      <td>0</td>\n",
              "      <td>0</td>\n",
              "      <td>0</td>\n",
              "      <td>0</td>\n",
              "      <td>...</td>\n",
              "      <td>0</td>\n",
              "      <td>0</td>\n",
              "      <td>0</td>\n",
              "      <td>1</td>\n",
              "      <td>0</td>\n",
              "      <td>0</td>\n",
              "      <td>1</td>\n",
              "      <td>0</td>\n",
              "      <td>0</td>\n",
              "      <td>0</td>\n",
              "    </tr>\n",
              "    <tr>\n",
              "      <th>3</th>\n",
              "      <td>0</td>\n",
              "      <td>1</td>\n",
              "      <td>1</td>\n",
              "      <td>0</td>\n",
              "      <td>0</td>\n",
              "      <td>1</td>\n",
              "      <td>0</td>\n",
              "      <td>0</td>\n",
              "      <td>0</td>\n",
              "      <td>0</td>\n",
              "      <td>...</td>\n",
              "      <td>1</td>\n",
              "      <td>0</td>\n",
              "      <td>0</td>\n",
              "      <td>0</td>\n",
              "      <td>0</td>\n",
              "      <td>0</td>\n",
              "      <td>0</td>\n",
              "      <td>1</td>\n",
              "      <td>1</td>\n",
              "      <td>0</td>\n",
              "    </tr>\n",
              "    <tr>\n",
              "      <th>4</th>\n",
              "      <td>1</td>\n",
              "      <td>0</td>\n",
              "      <td>0</td>\n",
              "      <td>1</td>\n",
              "      <td>0</td>\n",
              "      <td>1</td>\n",
              "      <td>0</td>\n",
              "      <td>0</td>\n",
              "      <td>0</td>\n",
              "      <td>0</td>\n",
              "      <td>...</td>\n",
              "      <td>0</td>\n",
              "      <td>0</td>\n",
              "      <td>0</td>\n",
              "      <td>0</td>\n",
              "      <td>0</td>\n",
              "      <td>0</td>\n",
              "      <td>1</td>\n",
              "      <td>0</td>\n",
              "      <td>0</td>\n",
              "      <td>0</td>\n",
              "    </tr>\n",
              "  </tbody>\n",
              "</table>\n",
              "<p>5 rows × 25 columns</p>\n",
              "</div>\n",
              "      <button class=\"colab-df-convert\" onclick=\"convertToInteractive('df-48e44eec-a408-41d7-9c0b-e39053635e6a')\"\n",
              "              title=\"Convert this dataframe to an interactive table.\"\n",
              "              style=\"display:none;\">\n",
              "        \n",
              "  <svg xmlns=\"http://www.w3.org/2000/svg\" height=\"24px\"viewBox=\"0 0 24 24\"\n",
              "       width=\"24px\">\n",
              "    <path d=\"M0 0h24v24H0V0z\" fill=\"none\"/>\n",
              "    <path d=\"M18.56 5.44l.94 2.06.94-2.06 2.06-.94-2.06-.94-.94-2.06-.94 2.06-2.06.94zm-11 1L8.5 8.5l.94-2.06 2.06-.94-2.06-.94L8.5 2.5l-.94 2.06-2.06.94zm10 10l.94 2.06.94-2.06 2.06-.94-2.06-.94-.94-2.06-.94 2.06-2.06.94z\"/><path d=\"M17.41 7.96l-1.37-1.37c-.4-.4-.92-.59-1.43-.59-.52 0-1.04.2-1.43.59L10.3 9.45l-7.72 7.72c-.78.78-.78 2.05 0 2.83L4 21.41c.39.39.9.59 1.41.59.51 0 1.02-.2 1.41-.59l7.78-7.78 2.81-2.81c.8-.78.8-2.07 0-2.86zM5.41 20L4 18.59l7.72-7.72 1.47 1.35L5.41 20z\"/>\n",
              "  </svg>\n",
              "      </button>\n",
              "      \n",
              "  <style>\n",
              "    .colab-df-container {\n",
              "      display:flex;\n",
              "      flex-wrap:wrap;\n",
              "      gap: 12px;\n",
              "    }\n",
              "\n",
              "    .colab-df-convert {\n",
              "      background-color: #E8F0FE;\n",
              "      border: none;\n",
              "      border-radius: 50%;\n",
              "      cursor: pointer;\n",
              "      display: none;\n",
              "      fill: #1967D2;\n",
              "      height: 32px;\n",
              "      padding: 0 0 0 0;\n",
              "      width: 32px;\n",
              "    }\n",
              "\n",
              "    .colab-df-convert:hover {\n",
              "      background-color: #E2EBFA;\n",
              "      box-shadow: 0px 1px 2px rgba(60, 64, 67, 0.3), 0px 1px 3px 1px rgba(60, 64, 67, 0.15);\n",
              "      fill: #174EA6;\n",
              "    }\n",
              "\n",
              "    [theme=dark] .colab-df-convert {\n",
              "      background-color: #3B4455;\n",
              "      fill: #D2E3FC;\n",
              "    }\n",
              "\n",
              "    [theme=dark] .colab-df-convert:hover {\n",
              "      background-color: #434B5C;\n",
              "      box-shadow: 0px 1px 3px 1px rgba(0, 0, 0, 0.15);\n",
              "      filter: drop-shadow(0px 1px 2px rgba(0, 0, 0, 0.3));\n",
              "      fill: #FFFFFF;\n",
              "    }\n",
              "  </style>\n",
              "\n",
              "      <script>\n",
              "        const buttonEl =\n",
              "          document.querySelector('#df-48e44eec-a408-41d7-9c0b-e39053635e6a button.colab-df-convert');\n",
              "        buttonEl.style.display =\n",
              "          google.colab.kernel.accessAllowed ? 'block' : 'none';\n",
              "\n",
              "        async function convertToInteractive(key) {\n",
              "          const element = document.querySelector('#df-48e44eec-a408-41d7-9c0b-e39053635e6a');\n",
              "          const dataTable =\n",
              "            await google.colab.kernel.invokeFunction('convertToInteractive',\n",
              "                                                     [key], {});\n",
              "          if (!dataTable) return;\n",
              "\n",
              "          const docLinkHtml = 'Like what you see? Visit the ' +\n",
              "            '<a target=\"_blank\" href=https://colab.research.google.com/notebooks/data_table.ipynb>data table notebook</a>'\n",
              "            + ' to learn more about interactive tables.';\n",
              "          element.innerHTML = '';\n",
              "          dataTable['output_type'] = 'display_data';\n",
              "          await google.colab.output.renderOutput(dataTable, element);\n",
              "          const docLink = document.createElement('div');\n",
              "          docLink.innerHTML = docLinkHtml;\n",
              "          element.appendChild(docLink);\n",
              "        }\n",
              "      </script>\n",
              "    </div>\n",
              "  </div>\n",
              "  "
            ]
          },
          "metadata": {},
          "execution_count": 29
        }
      ],
      "source": [
        "X_ohe.head()"
      ]
    },
    {
      "cell_type": "code",
      "execution_count": null,
      "metadata": {
        "colab": {
          "base_uri": "https://localhost:8080/"
        },
        "id": "rP1jOkMEzETx",
        "outputId": "22a2caaa-0eb8-4ce2-914c-0ab4109b3531"
      },
      "outputs": [
        {
          "output_type": "execute_result",
          "data": {
            "text/plain": [
              "(15420, 25)"
            ]
          },
          "metadata": {},
          "execution_count": 30
        }
      ],
      "source": [
        "# Convert to numpy\n",
        "x = X_ohe.to_numpy()\n",
        "x.shape"
      ]
    },
    {
      "cell_type": "code",
      "execution_count": null,
      "metadata": {
        "id": "EPK5APtvBip1"
      },
      "outputs": [],
      "source": [
        "from sklearn import preprocessing\n",
        "\n",
        "X= preprocessing.normalize(x)"
      ]
    },
    {
      "cell_type": "code",
      "execution_count": null,
      "metadata": {
        "colab": {
          "base_uri": "https://localhost:8080/"
        },
        "id": "ZumT9wk1Bua6",
        "outputId": "13b0c777-8969-48c9-81d4-f7c4c8a14c19"
      },
      "outputs": [
        {
          "output_type": "execute_result",
          "data": {
            "text/plain": [
              "array([[0.5       , 0.        , 0.        , ..., 0.5       , 0.        ,\n",
              "        0.        ],\n",
              "       [0.40824829, 0.40824829, 0.        , ..., 0.        , 0.40824829,\n",
              "        0.        ],\n",
              "       [0.4472136 , 0.4472136 , 0.4472136 , ..., 0.        , 0.        ,\n",
              "        0.        ],\n",
              "       ...,\n",
              "       [0.        , 0.5       , 0.        , ..., 0.        , 0.        ,\n",
              "        0.        ],\n",
              "       [0.5       , 0.        , 0.5       , ..., 0.        , 0.        ,\n",
              "        0.        ],\n",
              "       [0.4472136 , 0.4472136 , 0.        , ..., 0.        , 0.        ,\n",
              "        0.        ]])"
            ]
          },
          "metadata": {},
          "execution_count": 32
        }
      ],
      "source": [
        "X"
      ]
    },
    {
      "cell_type": "markdown",
      "metadata": {
        "id": "Sx8kNXwCzaOg"
      },
      "source": [
        "LABELS"
      ]
    },
    {
      "cell_type": "code",
      "execution_count": null,
      "metadata": {
        "colab": {
          "base_uri": "https://localhost:8080/"
        },
        "id": "j8lCDUmPiBKx",
        "outputId": "eeddd40c-664c-42b8-debc-ea14f1a0481e"
      },
      "outputs": [
        {
          "output_type": "execute_result",
          "data": {
            "text/plain": [
              "0    0\n",
              "1    0\n",
              "2    0\n",
              "3    0\n",
              "4    0\n",
              "Name: FraudFound, dtype: int64"
            ]
          },
          "metadata": {},
          "execution_count": 33
        }
      ],
      "source": [
        "#labels\n",
        "sorted_df = df.sort_values(by=\"PolicyNumber\")\n",
        "# Select labels\n",
        "labels = sorted_df[\"FraudFound\"]\n",
        "labels.head()"
      ]
    },
    {
      "cell_type": "code",
      "execution_count": null,
      "metadata": {
        "colab": {
          "base_uri": "https://localhost:8080/"
        },
        "id": "wzb2KBreiPNr",
        "outputId": "1bb32334-1251-4526-ee0a-f8625e2078dd"
      },
      "outputs": [
        {
          "output_type": "execute_result",
          "data": {
            "text/plain": [
              "(15420,)"
            ]
          },
          "metadata": {},
          "execution_count": 34
        }
      ],
      "source": [
        "# Convert to numpy\n",
        "y = labels.to_numpy()\n",
        "y.shape"
      ]
    },
    {
      "cell_type": "code",
      "execution_count": null,
      "metadata": {
        "colab": {
          "base_uri": "https://localhost:8080/"
        },
        "id": "j9tQe-b6zJqd",
        "outputId": "40d2253c-c92f-4b01-eb94-d8bf9c08465c"
      },
      "outputs": [
        {
          "output_type": "execute_result",
          "data": {
            "text/plain": [
              "array([0, 0, 0, ..., 1, 0, 1])"
            ]
          },
          "metadata": {},
          "execution_count": 35
        }
      ],
      "source": [
        "y"
      ]
    },
    {
      "cell_type": "markdown",
      "metadata": {
        "id": "8-NAKHCAzhZx"
      },
      "source": [
        "EDGES"
      ]
    },
    {
      "cell_type": "code",
      "execution_count": null,
      "metadata": {
        "id": "sCFFPQvuicBb"
      },
      "outputs": [],
      "source": [
        "# Remap \n",
        "df[\"PolicyNumber\"] = df.reset_index().index"
      ]
    },
    {
      "cell_type": "code",
      "execution_count": null,
      "metadata": {
        "colab": {
          "base_uri": "https://localhost:8080/"
        },
        "id": "fYkN8WM6iq3u",
        "outputId": "cca6ae4d-426f-4398-a0bd-3510a9cc1a1a"
      },
      "outputs": [
        {
          "output_type": "execute_result",
          "data": {
            "text/plain": [
              "1    3944\n",
              "3    3884\n",
              "2    3801\n",
              "4    3791\n",
              "Name: DriverRating, dtype: int64"
            ]
          },
          "metadata": {},
          "execution_count": 37
        }
      ],
      "source": [
        "df[\"DriverRating\"].value_counts()"
      ]
    },
    {
      "cell_type": "code",
      "execution_count": null,
      "metadata": {
        "colab": {
          "base_uri": "https://localhost:8080/"
        },
        "id": "44kG9bJFiqRi",
        "outputId": "85206bd6-ecc4-48a4-f44c-f681570aca9a"
      },
      "outputs": [
        {
          "output_type": "execute_result",
          "data": {
            "text/plain": [
              "array([[    0,     0,     0, ..., 15403, 15403, 15404],\n",
              "       [    4,     6,     9, ..., 15404, 15413, 15413]])"
            ]
          },
          "metadata": {},
          "execution_count": 38
        }
      ],
      "source": [
        "import itertools\n",
        "import numpy as np\n",
        "\n",
        "types = df[\"DriverRating\"].unique()\n",
        "all_edges = np.array([], dtype=np.int32).reshape((0, 2))\n",
        "for base in types:\n",
        "    types_df = df[df[\"DriverRating\"] == base]\n",
        "    individuals = types_df[\"PolicyNumber\"].values\n",
        "    # Build all combinations\n",
        "    permutations = list(itertools.combinations(individuals, 2))\n",
        "    edges_source = [e[0] for e in permutations]\n",
        "    edges_target = [e[1] for e in permutations]\n",
        "    types_edges = np.column_stack([edges_source, edges_target])\n",
        "    all_edges = np.vstack([all_edges, types_edges])\n",
        "# Convert to Pytorch Geometric format\n",
        "edge_index = all_edges.transpose()\n",
        "edge_index # [2, num_edges]"
      ]
    },
    {
      "cell_type": "code",
      "execution_count": null,
      "metadata": {
        "colab": {
          "base_uri": "https://localhost:8080/"
        },
        "id": "vUZ0nWfM9K27",
        "outputId": "9d1c5733-a81f-4894-bfcb-9e83dbdf20d5"
      },
      "outputs": [
        {
          "output_type": "stream",
          "name": "stdout",
          "text": [
            "1.13.0+cu116\n",
            "\u001b[2K     \u001b[90m━━━━━━━━━━━━━━━━━━━━━━━━━━━━━━━━━━━━━━━━\u001b[0m \u001b[32m9.4/9.4 MB\u001b[0m \u001b[31m49.2 MB/s\u001b[0m eta \u001b[36m0:00:00\u001b[0m\n",
            "\u001b[2K     \u001b[90m━━━━━━━━━━━━━━━━━━━━━━━━━━━━━━━━━━━━━━━━\u001b[0m \u001b[32m4.5/4.5 MB\u001b[0m \u001b[31m31.0 MB/s\u001b[0m eta \u001b[36m0:00:00\u001b[0m\n",
            "\u001b[?25h  Preparing metadata (setup.py) ... \u001b[?25l\u001b[?25hdone\n",
            "\u001b[2K     \u001b[90m━━━━━━━━━━━━━━━━━━━━━━━━━━━━━━━━━━━━━━━\u001b[0m \u001b[32m512.4/512.4 KB\u001b[0m \u001b[31m6.2 MB/s\u001b[0m eta \u001b[36m0:00:00\u001b[0m\n",
            "\u001b[?25h  Building wheel for torch-geometric (setup.py) ... \u001b[?25l\u001b[?25hdone\n"
          ]
        }
      ],
      "source": [
        "# Install required packages.\n",
        "import os\n",
        "import torch\n",
        "os.environ['TORCH'] = torch.__version__\n",
        "print(torch.__version__)\n",
        "\n",
        "!pip install -q torch-scatter -f https://data.pyg.org/whl/torch-${TORCH}.html\n",
        "!pip install -q torch-sparse -f https://data.pyg.org/whl/torch-${TORCH}.html\n",
        "!pip install -q git+https://github.com/pyg-team/pytorch_geometric.git\n",
        "\n",
        "# Helper function for visualization.\n",
        "%matplotlib inline\n",
        "import matplotlib.pyplot as plt\n",
        "from sklearn.manifold import TSNE\n",
        "\n",
        "def visualize(h, color):\n",
        "    z = TSNE(n_components=2).fit_transform(h.detach().cpu().numpy())\n",
        "\n",
        "    plt.figure(figsize=(10,10))\n",
        "    plt.xticks([])\n",
        "    plt.yticks([])\n",
        "\n",
        "    plt.scatter(z[:, 0], z[:, 1], s=70, c=color, cmap=\"Set2\")\n",
        "    plt.show()"
      ]
    },
    {
      "cell_type": "code",
      "execution_count": null,
      "metadata": {
        "id": "ZmiW6hQ5C4bD"
      },
      "outputs": [],
      "source": [
        "X=X.astype(np.float32)"
      ]
    },
    {
      "cell_type": "code",
      "execution_count": null,
      "metadata": {
        "colab": {
          "base_uri": "https://localhost:8080/"
        },
        "id": "9kNnsqguC-Sj",
        "outputId": "7e820480-cabf-44e4-dc29-9965e18257f8"
      },
      "outputs": [
        {
          "output_type": "execute_result",
          "data": {
            "text/plain": [
              "array([[0.5      , 0.       , 0.       , ..., 0.5      , 0.       ,\n",
              "        0.       ],\n",
              "       [0.4082483, 0.4082483, 0.       , ..., 0.       , 0.4082483,\n",
              "        0.       ],\n",
              "       [0.4472136, 0.4472136, 0.4472136, ..., 0.       , 0.       ,\n",
              "        0.       ],\n",
              "       ...,\n",
              "       [0.       , 0.5      , 0.       , ..., 0.       , 0.       ,\n",
              "        0.       ],\n",
              "       [0.5      , 0.       , 0.5      , ..., 0.       , 0.       ,\n",
              "        0.       ],\n",
              "       [0.4472136, 0.4472136, 0.       , ..., 0.       , 0.       ,\n",
              "        0.       ]], dtype=float32)"
            ]
          },
          "metadata": {},
          "execution_count": 41
        }
      ],
      "source": [
        "X"
      ]
    },
    {
      "cell_type": "code",
      "execution_count": null,
      "metadata": {
        "id": "GeQbSTn90mTU"
      },
      "outputs": [],
      "source": [
        "from torch_geometric.data import Data"
      ]
    },
    {
      "cell_type": "code",
      "execution_count": null,
      "metadata": {
        "id": "Hrtqvfzo9qU7"
      },
      "outputs": [],
      "source": [
        "data = Data(x=torch.tensor(X), edge_index=torch.tensor(edge_index), y=torch.tensor(y) , num_classes = 2 ) "
      ]
    },
    {
      "cell_type": "code",
      "execution_count": null,
      "metadata": {
        "id": "MpaWa0GALgv7"
      },
      "outputs": [],
      "source": [
        "#data = Data(x=torch.tensor(X), edge_index=torch.tensor(edge_index), y=torch.tensor(y) ) "
      ]
    },
    {
      "cell_type": "code",
      "execution_count": null,
      "metadata": {
        "colab": {
          "base_uri": "https://localhost:8080/"
        },
        "id": "4Ivx3zQA9yn4",
        "outputId": "a013488c-ab00-4cda-8d6a-7703b571c8ef"
      },
      "outputs": [
        {
          "output_type": "execute_result",
          "data": {
            "text/plain": [
              "Data(x=[15420, 25], edge_index=[2, 29722227], y=[15420], num_classes=2)"
            ]
          },
          "metadata": {},
          "execution_count": 45
        }
      ],
      "source": [
        "data"
      ]
    },
    {
      "cell_type": "code",
      "execution_count": null,
      "metadata": {
        "colab": {
          "base_uri": "https://localhost:8080/"
        },
        "id": "cLvjxZGExDwE",
        "outputId": "0529a88b-3df4-4970-a893-7f433edd6a9b"
      },
      "outputs": [
        {
          "output_type": "execute_result",
          "data": {
            "text/plain": [
              "tensor([[0.5000, 0.0000, 0.0000,  ..., 0.5000, 0.0000, 0.0000],\n",
              "        [0.4082, 0.4082, 0.0000,  ..., 0.0000, 0.4082, 0.0000],\n",
              "        [0.4472, 0.4472, 0.4472,  ..., 0.0000, 0.0000, 0.0000],\n",
              "        ...,\n",
              "        [0.0000, 0.5000, 0.0000,  ..., 0.0000, 0.0000, 0.0000],\n",
              "        [0.5000, 0.0000, 0.5000,  ..., 0.0000, 0.0000, 0.0000],\n",
              "        [0.4472, 0.4472, 0.0000,  ..., 0.0000, 0.0000, 0.0000]])"
            ]
          },
          "metadata": {},
          "execution_count": 46
        }
      ],
      "source": [
        "data.x"
      ]
    },
    {
      "cell_type": "code",
      "execution_count": null,
      "metadata": {
        "colab": {
          "base_uri": "https://localhost:8080/"
        },
        "id": "IKJKe8AsxJXb",
        "outputId": "881dea04-2754-44cf-88d9-5c636728a6cc"
      },
      "outputs": [
        {
          "output_type": "execute_result",
          "data": {
            "text/plain": [
              "tensor([[    0,     0,     0,  ..., 15403, 15403, 15404],\n",
              "        [    4,     6,     9,  ..., 15404, 15413, 15413]])"
            ]
          },
          "metadata": {},
          "execution_count": 47
        }
      ],
      "source": [
        "data.edge_index"
      ]
    },
    {
      "cell_type": "code",
      "execution_count": null,
      "metadata": {
        "colab": {
          "base_uri": "https://localhost:8080/"
        },
        "id": "6WfeCjYbxS6X",
        "outputId": "19e24829-24a1-4743-d352-e03b2e8634ba"
      },
      "outputs": [
        {
          "output_type": "execute_result",
          "data": {
            "text/plain": [
              "tensor([0, 0, 0,  ..., 1, 0, 1])"
            ]
          },
          "metadata": {},
          "execution_count": 48
        }
      ],
      "source": [
        "data.y"
      ]
    },
    {
      "cell_type": "markdown",
      "metadata": {
        "id": "XhkY1By3wLJ4"
      },
      "source": [
        "Split to training and testing "
      ]
    },
    {
      "cell_type": "code",
      "execution_count": null,
      "metadata": {
        "id": "PepXUDyZ1N24"
      },
      "outputs": [],
      "source": [
        "train_ratio = 0.2\n",
        "num_nodes = data.x.shape[0]\n",
        "num_train = int(num_nodes * train_ratio)\n",
        "idx = [i for i in range(num_nodes)]"
      ]
    },
    {
      "cell_type": "code",
      "execution_count": null,
      "metadata": {
        "id": "8GzK8NHV1SEq"
      },
      "outputs": [],
      "source": [
        "np.random.shuffle(idx)\n",
        "train_mask = torch.full_like(data.y, False, dtype=bool)\n",
        "train_mask[idx[:num_train]] = True\n",
        "test_mask = torch.full_like(data.y, False, dtype=bool)\n",
        "test_mask[idx[num_train:]] = True"
      ]
    },
    {
      "cell_type": "code",
      "execution_count": null,
      "metadata": {
        "colab": {
          "base_uri": "https://localhost:8080/"
        },
        "id": "f0GbMba31s2z",
        "outputId": "25aa774f-a2bf-4d42-977f-5d8ed5261cb5"
      },
      "outputs": [
        {
          "output_type": "stream",
          "name": "stdout",
          "text": [
            "tensor([False, False, False,  ..., False, False, False])\n",
            "tensor([True, True, True,  ..., True, True, True])\n"
          ]
        }
      ],
      "source": [
        "print(train_mask)\n",
        "# tensor([ True, False, False, False, False])\n",
        "print(test_mask)\n",
        "# tensor([False,  True,  True,  True,  True])"
      ]
    },
    {
      "cell_type": "code",
      "execution_count": null,
      "metadata": {
        "colab": {
          "base_uri": "https://localhost:8080/"
        },
        "id": "PAX6H3nOLzNB",
        "outputId": "715e8d70-4b1f-40e9-dbb6-6ae2e77437a3"
      },
      "outputs": [
        {
          "output_type": "stream",
          "name": "stdout",
          "text": [
            "29722227\n"
          ]
        }
      ],
      "source": [
        "\n",
        "# check number of edges of the graph\n",
        "print(data.num_edges)"
      ]
    },
    {
      "cell_type": "code",
      "execution_count": null,
      "metadata": {
        "colab": {
          "base_uri": "https://localhost:8080/"
        },
        "id": "AwrLDqbDL3RK",
        "outputId": "51a58b9b-1582-40c6-cf49-584a6c95078d"
      },
      "outputs": [
        {
          "output_type": "stream",
          "name": "stdout",
          "text": [
            "15420\n"
          ]
        }
      ],
      "source": [
        "\n",
        "# check number of nodes of the graph\n",
        "print(data.num_nodes)\n",
        "     "
      ]
    },
    {
      "cell_type": "code",
      "execution_count": null,
      "metadata": {
        "colab": {
          "base_uri": "https://localhost:8080/"
        },
        "id": "t_wW8cuJL8TB",
        "outputId": "e9a69f55-507b-4572-d478-fbf6e525d494"
      },
      "outputs": [
        {
          "output_type": "stream",
          "name": "stdout",
          "text": [
            "25\n"
          ]
        }
      ],
      "source": [
        "\n",
        "# check number of features of the graph\n",
        "print(data.num_features)"
      ]
    },
    {
      "cell_type": "code",
      "execution_count": null,
      "metadata": {
        "colab": {
          "base_uri": "https://localhost:8080/"
        },
        "id": "JNZT7Z55MDpS",
        "outputId": "9eb44341-cd75-43c1-b553-4502c41f39eb"
      },
      "outputs": [
        {
          "output_type": "stream",
          "name": "stdout",
          "text": [
            "True\n"
          ]
        }
      ],
      "source": [
        "\n",
        "# check if graph is directed\n",
        "print(data.is_directed())"
      ]
    },
    {
      "cell_type": "code",
      "execution_count": null,
      "metadata": {
        "colab": {
          "base_uri": "https://localhost:8080/"
        },
        "id": "4Vur8EkUt5_P",
        "outputId": "cfc09de2-701a-4390-8782-993233d407fc"
      },
      "outputs": [
        {
          "output_type": "execute_result",
          "data": {
            "text/plain": [
              "tensor([[    0,     0,     0,  ..., 15403, 15403, 15404],\n",
              "        [    4,     6,     9,  ..., 15404, 15413, 15413]])"
            ]
          },
          "metadata": {},
          "execution_count": 56
        }
      ],
      "source": [
        "data.edge_index"
      ]
    },
    {
      "cell_type": "code",
      "execution_count": null,
      "metadata": {
        "colab": {
          "base_uri": "https://localhost:8080/"
        },
        "id": "gxAIFi4guP0i",
        "outputId": "2ce0c5df-6b78-4c32-f7ec-5bc949d551ed"
      },
      "outputs": [
        {
          "output_type": "execute_result",
          "data": {
            "text/plain": [
              "tensor([[0.5000, 0.0000, 0.0000,  ..., 0.5000, 0.0000, 0.0000],\n",
              "        [0.4082, 0.4082, 0.0000,  ..., 0.0000, 0.4082, 0.0000],\n",
              "        [0.4472, 0.4472, 0.4472,  ..., 0.0000, 0.0000, 0.0000],\n",
              "        ...,\n",
              "        [0.0000, 0.5000, 0.0000,  ..., 0.0000, 0.0000, 0.0000],\n",
              "        [0.5000, 0.0000, 0.5000,  ..., 0.0000, 0.0000, 0.0000],\n",
              "        [0.4472, 0.4472, 0.0000,  ..., 0.0000, 0.0000, 0.0000]])"
            ]
          },
          "metadata": {},
          "execution_count": 57
        }
      ],
      "source": [
        "data.x"
      ]
    },
    {
      "cell_type": "code",
      "execution_count": null,
      "metadata": {
        "colab": {
          "base_uri": "https://localhost:8080/"
        },
        "id": "dbu43Unljdkt",
        "outputId": "5accb08c-f59c-4094-862a-48d5fe2af22f"
      },
      "outputs": [
        {
          "output_type": "stream",
          "name": "stdout",
          "text": [
            "Number of nodes: 15420\n",
            "Number of edges: 29722227\n",
            "Average node degree: 1927.51\n"
          ]
        }
      ],
      "source": [
        "# Gather some statistics about the graph.\n",
        "print(f'Number of nodes: {data.num_nodes}')\n",
        "print(f'Number of edges: {data.num_edges}')\n",
        "print(f'Average node degree: {data.num_edges / data.num_nodes:.2f}')"
      ]
    },
    {
      "cell_type": "code",
      "execution_count": null,
      "metadata": {
        "colab": {
          "base_uri": "https://localhost:8080/"
        },
        "id": "YOxp2rgTAYef",
        "outputId": "8bcff85d-bd2e-491c-c820-67f5ed1d8a80"
      },
      "outputs": [
        {
          "output_type": "stream",
          "name": "stdout",
          "text": [
            "Number of graphs: 4\n",
            "Number of features: 25\n",
            "Number of classes: 2\n"
          ]
        }
      ],
      "source": [
        "print(f'Number of graphs: {len(data)}')\n",
        "print(f'Number of features: {data.num_features}')\n",
        "print(f'Number of classes: {data.num_classes}')"
      ]
    },
    {
      "cell_type": "markdown",
      "metadata": {
        "id": "qDhtMuklqAga"
      },
      "source": [
        "**GNN MODEL**"
      ]
    },
    {
      "cell_type": "code",
      "execution_count": null,
      "metadata": {
        "colab": {
          "base_uri": "https://localhost:8080/"
        },
        "id": "_lCJ4YCrgWzn",
        "outputId": "aabc2dda-a597-4322-f5f2-91ac20567aa0"
      },
      "outputs": [
        {
          "output_type": "stream",
          "name": "stdout",
          "text": [
            "GCN(\n",
            "  (conv1): GCNConv(25, 16)\n",
            "  (conv2): GCNConv(16, 2)\n",
            ")\n"
          ]
        }
      ],
      "source": [
        "from torch_geometric.nn import GCNConv\n",
        "\n",
        "\n",
        "class GCN(torch.nn.Module):\n",
        "    def __init__(self, hidden_channels):\n",
        "        super().__init__()\n",
        "        torch.manual_seed(1234567)\n",
        "        self.conv1 = GCNConv(data.num_features, hidden_channels)\n",
        "        self.conv2 = GCNConv(hidden_channels, data.num_classes)\n",
        "\n",
        "    def forward(self, x, edge_index):\n",
        "        x = self.conv1(x, edge_index)\n",
        "        x = x.relu()\n",
        "        x = F.dropout(x, p=0.5, training=self.training)\n",
        "        x = self.conv2(x, edge_index)\n",
        "        return x\n",
        "\n",
        "model = GCN(hidden_channels=16)\n",
        "print(model)"
      ]
    },
    {
      "cell_type": "code",
      "execution_count": null,
      "metadata": {
        "colab": {
          "base_uri": "https://localhost:8080/",
          "height": 650
        },
        "id": "1zqVHHjvrGfy",
        "outputId": "dd4c1bbc-343e-44c9-f26b-8d60e2c0baeb"
      },
      "outputs": [
        {
          "output_type": "stream",
          "name": "stderr",
          "text": [
            "/usr/local/lib/python3.8/dist-packages/sklearn/manifold/_t_sne.py:780: FutureWarning: The default initialization in TSNE will change from 'random' to 'pca' in 1.2.\n",
            "  warnings.warn(\n",
            "/usr/local/lib/python3.8/dist-packages/sklearn/manifold/_t_sne.py:790: FutureWarning: The default learning rate in TSNE will change from 200.0 to 'auto' in 1.2.\n",
            "  warnings.warn(\n"
          ]
        },
        {
          "output_type": "display_data",
          "data": {
            "text/plain": [
              "<Figure size 720x720 with 1 Axes>"
            ],
            "image/png": "[encoded data removed]"
          },
          "metadata": {}
        }
      ],
      "source": [
        "model = GCN(hidden_channels=16)\n",
        "model.eval()\n",
        "\n",
        "out = model(data.x, data.edge_index)\n",
        "visualize(out, color=data.y)"
      ]
    },
    {
      "cell_type": "code",
      "source": [
        "from IPython.display import Javascript  # Restrict height of output cell.\n",
        "display(Javascript('''google.colab.output.setIframeHeight(0, true, {maxHeight: 300})'''))\n",
        "\n",
        "model = GCN(hidden_channels=16)\n",
        "optimizer = torch.optim.Adam(model.parameters(), lr=0.01, weight_decay=5e-4)\n",
        "criterion = torch.nn.CrossEntropyLoss()\n",
        "\n",
        "def train():\n",
        "      model.train()\n",
        "      optimizer.zero_grad()  # Clear gradients.\n",
        "      out = model(data.x, data.edge_index)  # Perform a single forward pass.\n",
        "      loss = criterion(out[train_mask], data.y[train_mask])  # Compute the loss solely based on the training nodes.\n",
        "      loss.backward()  # Derive gradients.\n",
        "      optimizer.step()  # Update parameters based on gradients.\n",
        "      return loss\n",
        "\n",
        "def test():\n",
        "      model.eval()\n",
        "      out = model(data.x, data.edge_index)\n",
        "      pred = out.argmax(dim=1)  # Use the class with highest probability.\n",
        "      output = pred[test_mask]\n",
        "      return output\n",
        "    \n",
        "\n",
        "for epoch in range(1, 101):\n",
        "    loss = train()\n",
        "    print(f'Epoch: {epoch:03d}, Loss: {loss:.4f}')"
      ],
      "metadata": {
        "colab": {
          "base_uri": "https://localhost:8080/",
          "height": 300
        },
        "id": "tceoRjBmY-zZ",
        "outputId": "ede5ab5f-9b0f-4556-fd9b-e3cf4fa84745"
      },
      "execution_count": null,
      "outputs": [
        {
          "output_type": "display_data",
          "data": {
            "text/plain": [
              "<IPython.core.display.Javascript object>"
            ],
            "application/javascript": [
              "google.colab.output.setIframeHeight(0, true, {maxHeight: 300})"
            ]
          },
          "metadata": {}
        },
        {
          "output_type": "stream",
          "name": "stdout",
          "text": [
            "Epoch: 001, Loss: 0.5233\n",
            "Epoch: 002, Loss: 0.3862\n",
            "Epoch: 003, Loss: 0.3014\n",
            "Epoch: 004, Loss: 0.2424\n",
            "Epoch: 005, Loss: 0.2144\n",
            "Epoch: 006, Loss: 0.1998\n",
            "Epoch: 007, Loss: 0.1975\n",
            "Epoch: 008, Loss: 0.2001\n",
            "Epoch: 009, Loss: 0.2055\n",
            "Epoch: 010, Loss: 0.2120\n",
            "Epoch: 011, Loss: 0.2167\n",
            "Epoch: 012, Loss: 0.2210\n",
            "Epoch: 013, Loss: 0.2251\n",
            "Epoch: 014, Loss: 0.2262\n",
            "Epoch: 015, Loss: 0.2290\n",
            "Epoch: 016, Loss: 0.2277\n",
            "Epoch: 017, Loss: 0.2246\n",
            "Epoch: 018, Loss: 0.2232\n",
            "Epoch: 019, Loss: 0.2186\n",
            "Epoch: 020, Loss: 0.2133\n",
            "Epoch: 021, Loss: 0.2095\n",
            "Epoch: 022, Loss: 0.2062\n",
            "Epoch: 023, Loss: 0.2022\n",
            "Epoch: 024, Loss: 0.1989\n",
            "Epoch: 025, Loss: 0.1977\n",
            "Epoch: 026, Loss: 0.1980\n",
            "Epoch: 027, Loss: 0.1992\n",
            "Epoch: 028, Loss: 0.2009\n",
            "Epoch: 029, Loss: 0.2030\n",
            "Epoch: 030, Loss: 0.2025\n",
            "Epoch: 031, Loss: 0.2013\n",
            "Epoch: 032, Loss: 0.2022\n",
            "Epoch: 033, Loss: 0.2001\n",
            "Epoch: 034, Loss: 0.1998\n",
            "Epoch: 035, Loss: 0.1989\n",
            "Epoch: 036, Loss: 0.1982\n",
            "Epoch: 037, Loss: 0.1982\n",
            "Epoch: 038, Loss: 0.1974\n",
            "Epoch: 039, Loss: 0.1977\n",
            "Epoch: 040, Loss: 0.1980\n",
            "Epoch: 041, Loss: 0.1981\n",
            "Epoch: 042, Loss: 0.1981\n",
            "Epoch: 043, Loss: 0.1985\n",
            "Epoch: 044, Loss: 0.1984\n",
            "Epoch: 045, Loss: 0.1985\n",
            "Epoch: 046, Loss: 0.1984\n",
            "Epoch: 047, Loss: 0.1982\n",
            "Epoch: 048, Loss: 0.1984\n",
            "Epoch: 049, Loss: 0.1980\n",
            "Epoch: 050, Loss: 0.1977\n",
            "Epoch: 051, Loss: 0.1981\n",
            "Epoch: 052, Loss: 0.1971\n",
            "Epoch: 053, Loss: 0.1977\n",
            "Epoch: 054, Loss: 0.1975\n",
            "Epoch: 055, Loss: 0.1975\n",
            "Epoch: 056, Loss: 0.1977\n",
            "Epoch: 057, Loss: 0.1976\n",
            "Epoch: 058, Loss: 0.1979\n",
            "Epoch: 059, Loss: 0.1975\n",
            "Epoch: 060, Loss: 0.1972\n",
            "Epoch: 061, Loss: 0.1976\n",
            "Epoch: 062, Loss: 0.1974\n",
            "Epoch: 063, Loss: 0.1976\n",
            "Epoch: 064, Loss: 0.1974\n",
            "Epoch: 065, Loss: 0.1976\n",
            "Epoch: 066, Loss: 0.1976\n",
            "Epoch: 067, Loss: 0.1975\n",
            "Epoch: 068, Loss: 0.1974\n",
            "Epoch: 069, Loss: 0.1977\n",
            "Epoch: 070, Loss: 0.1977\n",
            "Epoch: 071, Loss: 0.1972\n",
            "Epoch: 072, Loss: 0.1973\n",
            "Epoch: 073, Loss: 0.1973\n",
            "Epoch: 074, Loss: 0.1973\n",
            "Epoch: 075, Loss: 0.1975\n",
            "Epoch: 076, Loss: 0.1977\n",
            "Epoch: 077, Loss: 0.1976\n",
            "Epoch: 078, Loss: 0.1976\n",
            "Epoch: 079, Loss: 0.1975\n",
            "Epoch: 080, Loss: 0.1975\n",
            "Epoch: 081, Loss: 0.1974\n",
            "Epoch: 082, Loss: 0.1975\n",
            "Epoch: 083, Loss: 0.1973\n",
            "Epoch: 084, Loss: 0.1975\n",
            "Epoch: 085, Loss: 0.1973\n",
            "Epoch: 086, Loss: 0.1974\n",
            "Epoch: 087, Loss: 0.1970\n",
            "Epoch: 088, Loss: 0.1973\n",
            "Epoch: 089, Loss: 0.1972\n",
            "Epoch: 090, Loss: 0.1972\n",
            "Epoch: 091, Loss: 0.1973\n",
            "Epoch: 092, Loss: 0.1971\n",
            "Epoch: 093, Loss: 0.1974\n",
            "Epoch: 094, Loss: 0.1975\n",
            "Epoch: 095, Loss: 0.1974\n",
            "Epoch: 096, Loss: 0.1977\n",
            "Epoch: 097, Loss: 0.1975\n",
            "Epoch: 098, Loss: 0.1978\n",
            "Epoch: 099, Loss: 0.1975\n",
            "Epoch: 100, Loss: 0.1973\n"
          ]
        }
      ]
    },
    {
      "cell_type": "code",
      "execution_count": null,
      "metadata": {
        "colab": {
          "base_uri": "https://localhost:8080/"
        },
        "id": "5obUiYVlcoen",
        "outputId": "92010584-76cb-427f-9a11-820c29b4a355"
      },
      "outputs": [
        {
          "output_type": "stream",
          "name": "stdout",
          "text": [
            "Test Accuracy: 0.9375\n"
          ]
        }
      ],
      "source": [
        "test_acc = test()\n",
        "print(f'Test Accuracy: {test_acc:.4f}')"
      ]
    },
    {
      "cell_type": "code",
      "source": [
        "from sklearn.metrics import accuracy_score"
      ],
      "metadata": {
        "id": "iZkGPv9yWP1f"
      },
      "execution_count": null,
      "outputs": []
    },
    {
      "cell_type": "code",
      "source": [
        "output = test()"
      ],
      "metadata": {
        "id": "8GLIoOS9d5Tf"
      },
      "execution_count": null,
      "outputs": []
    },
    {
      "cell_type": "code",
      "source": [
        "print('Accuracy: %.3f' % accuracy_score(data.y[test_mask],output))"
      ],
      "metadata": {
        "colab": {
          "base_uri": "https://localhost:8080/"
        },
        "id": "L0YQ0XPIWMoC",
        "outputId": "d07168f4-89d8-44f8-bc09-a01f1473fa83"
      },
      "execution_count": null,
      "outputs": [
        {
          "output_type": "stream",
          "name": "stdout",
          "text": [
            "Accuracy: 0.938\n"
          ]
        }
      ]
    },
    {
      "cell_type": "code",
      "source": [
        "from sklearn.metrics import confusion_matrix , classification_report"
      ],
      "metadata": {
        "id": "3yO8goy_PFhy"
      },
      "execution_count": null,
      "outputs": []
    },
    {
      "cell_type": "code",
      "source": [
        "print(classification_report(data.y[test_mask],output))"
      ],
      "metadata": {
        "colab": {
          "base_uri": "https://localhost:8080/"
        },
        "id": "rJ9mtsBAOw9i",
        "outputId": "401748b7-ecb8-42cf-cb34-12a9efca5be7"
      },
      "execution_count": null,
      "outputs": [
        {
          "output_type": "stream",
          "name": "stdout",
          "text": [
            "              precision    recall  f1-score   support\n",
            "\n",
            "           0       0.94      1.00      0.97     11565\n",
            "           1       0.00      0.00      0.00       771\n",
            "\n",
            "    accuracy                           0.94     12336\n",
            "   macro avg       0.47      0.50      0.48     12336\n",
            "weighted avg       0.88      0.94      0.91     12336\n",
            "\n"
          ]
        },
        {
          "output_type": "stream",
          "name": "stderr",
          "text": [
            "/usr/local/lib/python3.8/dist-packages/sklearn/metrics/_classification.py:1318: UndefinedMetricWarning: Precision and F-score are ill-defined and being set to 0.0 in labels with no predicted samples. Use `zero_division` parameter to control this behavior.\n",
            "  _warn_prf(average, modifier, msg_start, len(result))\n",
            "/usr/local/lib/python3.8/dist-packages/sklearn/metrics/_classification.py:1318: UndefinedMetricWarning: Precision and F-score are ill-defined and being set to 0.0 in labels with no predicted samples. Use `zero_division` parameter to control this behavior.\n",
            "  _warn_prf(average, modifier, msg_start, len(result))\n",
            "/usr/local/lib/python3.8/dist-packages/sklearn/metrics/_classification.py:1318: UndefinedMetricWarning: Precision and F-score are ill-defined and being set to 0.0 in labels with no predicted samples. Use `zero_division` parameter to control this behavior.\n",
            "  _warn_prf(average, modifier, msg_start, len(result))\n"
          ]
        }
      ]
    }
  ],
  "metadata": {
    "accelerator": "GPU",
    "colab": {
      "machine_shape": "hm",
      "provenance": [],
      "include_colab_link": true
    },
    "gpuClass": "standard",
    "kernelspec": {
      "display_name": "Python 3",
      "name": "python3"
    },
    "language_info": {
      "name": "python"
    }
  },
  "nbformat": 4,
  "nbformat_minor": 0
}