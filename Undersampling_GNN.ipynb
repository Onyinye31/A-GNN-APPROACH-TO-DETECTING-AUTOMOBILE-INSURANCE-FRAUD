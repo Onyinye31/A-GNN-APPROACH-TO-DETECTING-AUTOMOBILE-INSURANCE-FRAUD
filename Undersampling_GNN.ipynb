{
  "cells": [
    {
      "cell_type": "markdown",
      "metadata": {
        "id": "view-in-github",
        "colab_type": "text"
      },
      "source": [
        "<a href=\"https://colab.research.google.com/github/Onyinye31/A-GNN-APPROACH-TO-DETECTING-AUTOMOBILE-INSURANCE-FRAUD/blob/main/Undersampling_GNN.ipynb\" target=\"_parent\"><img src=\"https://colab.research.google.com/assets/colab-badge.svg\" alt=\"Open In Colab\"/></a>"
      ]
    },
    {
      "cell_type": "code",
      "execution_count": null,
      "metadata": {
        "id": "0XPNopjvFNVS"
      },
      "outputs": [],
      "source": [
        "%%capture\n",
        "!git clone https://github.com/joerg84/Graph_Powered_ML_Workshop.git\n",
        "!rsync -av Graph_Powered_ML_Workshop/ ./ --exclude=.git\n",
        "!pip3 install dgl\n",
        "!pip3 install numpy\n",
        "!pip3 install torch\n",
        "!pip3 install networkx\n",
        "!pip3 install matplotlib"
      ]
    },
    {
      "cell_type": "code",
      "execution_count": null,
      "metadata": {
        "id": "nSoH0FWvWca6"
      },
      "outputs": [],
      "source": [
        "import os, sys\n",
        "from copy import deepcopy\n",
        "import numpy as np\n",
        "import pandas as pd\n",
        "\n",
        "import torch as th\n",
        "import torch.nn as nn\n",
        "from torch import optim\n",
        "import torch.nn.functional as F\n",
        "\n",
        "import matplotlib.pyplot as plt\n",
        "%matplotlib inline"
      ]
    },
    {
      "cell_type": "code",
      "execution_count": null,
      "metadata": {
        "colab": {
          "base_uri": "https://localhost:8080/"
        },
        "id": "KN61fhJ6WqAn",
        "outputId": "529a3e64-845d-4437-ff30-a7cedf9f586c"
      },
      "outputs": [
        {
          "output_type": "stream",
          "name": "stdout",
          "text": [
            "Torch version: 1.13.0+cu116.  CUDA version: 11.6\n"
          ]
        }
      ],
      "source": [
        "print(f\"Torch version: {th.__version__}.  CUDA version: {th.version.cuda}\")"
      ]
    },
    {
      "cell_type": "code",
      "execution_count": null,
      "metadata": {
        "colab": {
          "base_uri": "https://localhost:8080/",
          "height": 36
        },
        "id": "nIALMQOvWuwf",
        "outputId": "0daa329c-9439-4b4b-a167-a5fffded95f1"
      },
      "outputs": [
        {
          "output_type": "execute_result",
          "data": {
            "text/plain": [
              "'dgl-cu116==0.9.1'"
            ],
            "application/vnd.google.colaboratory.intrinsic+json": {
              "type": "string"
            }
          },
          "metadata": {},
          "execution_count": 4
        }
      ],
      "source": [
        "dgl_version = f\"dgl-cu{th.version.cuda.replace('.', '')}==0.9.1\"\n",
        "dgl_version"
      ]
    },
    {
      "cell_type": "code",
      "execution_count": null,
      "metadata": {
        "colab": {
          "base_uri": "https://localhost:8080/"
        },
        "id": "Pd6PaXpgW0B6",
        "outputId": "fc3686c0-b710-4ddb-8606-7c6843cfc0ae"
      },
      "outputs": [
        {
          "output_type": "stream",
          "name": "stdout",
          "text": [
            "Looking in indexes: https://pypi.org/simple, https://us-python.pkg.dev/colab-wheels/public/simple/\n",
            "Looking in links: https://data.dgl.ai/wheels/repo.html\n",
            "Collecting dgl-cu116==0.9.1\n",
            "  Downloading https://data.dgl.ai/wheels/dgl_cu116-0.9.1-cp38-cp38-manylinux1_x86_64.whl (246.3 MB)\n",
            "\u001b[2K     \u001b[90m━━━━━━━━━━━━━━━━━━━━━━━━━━━━━━━━━━━━━━━\u001b[0m \u001b[32m246.3/246.3 MB\u001b[0m \u001b[31m3.9 MB/s\u001b[0m eta \u001b[36m0:00:00\u001b[0m\n",
            "\u001b[?25hRequirement already satisfied: tqdm in /usr/local/lib/python3.8/dist-packages (from dgl-cu116==0.9.1) (4.64.1)\n",
            "Requirement already satisfied: scipy>=1.1.0 in /usr/local/lib/python3.8/dist-packages (from dgl-cu116==0.9.1) (1.7.3)\n",
            "Requirement already satisfied: networkx>=2.1 in /usr/local/lib/python3.8/dist-packages (from dgl-cu116==0.9.1) (2.8.8)\n",
            "Requirement already satisfied: psutil>=5.8.0 in /usr/local/lib/python3.8/dist-packages (from dgl-cu116==0.9.1) (5.9.4)\n",
            "Requirement already satisfied: requests>=2.19.0 in /usr/local/lib/python3.8/dist-packages (from dgl-cu116==0.9.1) (2.25.1)\n",
            "Requirement already satisfied: numpy>=1.14.0 in /usr/local/lib/python3.8/dist-packages (from dgl-cu116==0.9.1) (1.21.6)\n",
            "Requirement already satisfied: certifi>=2017.4.17 in /usr/local/lib/python3.8/dist-packages (from requests>=2.19.0->dgl-cu116==0.9.1) (2022.12.7)\n",
            "Requirement already satisfied: chardet<5,>=3.0.2 in /usr/local/lib/python3.8/dist-packages (from requests>=2.19.0->dgl-cu116==0.9.1) (4.0.0)\n",
            "Requirement already satisfied: idna<3,>=2.5 in /usr/local/lib/python3.8/dist-packages (from requests>=2.19.0->dgl-cu116==0.9.1) (2.10)\n",
            "Requirement already satisfied: urllib3<1.27,>=1.21.1 in /usr/local/lib/python3.8/dist-packages (from requests>=2.19.0->dgl-cu116==0.9.1) (1.24.3)\n",
            "Installing collected packages: dgl-cu116\n",
            "Successfully installed dgl-cu116-0.9.1\n"
          ]
        }
      ],
      "source": [
        "# Follow instructions at https://www.dgl.ai/pages/start.html\n",
        "!{sys.executable} -m pip install {dgl_version} -f https://data.dgl.ai/wheels/repo.html"
      ]
    },
    {
      "cell_type": "code",
      "execution_count": null,
      "metadata": {
        "id": "iyOQCN9hW12L"
      },
      "outputs": [],
      "source": [
        "os.environ['DGLBACKEND'] = 'pytorch'\n",
        "import dgl\n",
        "from dgl import function as fn"
      ]
    },
    {
      "cell_type": "code",
      "execution_count": null,
      "metadata": {
        "colab": {
          "base_uri": "https://localhost:8080/",
          "height": 36
        },
        "id": "CueeIDtpW5ei",
        "outputId": "428bcb2b-a24d-44b3-888b-14deb17a4fde"
      },
      "outputs": [
        {
          "output_type": "execute_result",
          "data": {
            "text/plain": [
              "'0.9.1'"
            ],
            "application/vnd.google.colaboratory.intrinsic+json": {
              "type": "string"
            }
          },
          "metadata": {},
          "execution_count": 7
        }
      ],
      "source": [
        "dgl.__version__"
      ]
    },
    {
      "cell_type": "code",
      "execution_count": null,
      "metadata": {
        "id": "71kaq97MutS2"
      },
      "outputs": [],
      "source": [
        "import dgl.dataloading"
      ]
    },
    {
      "cell_type": "code",
      "execution_count": null,
      "metadata": {
        "id": "trIj-o_WW8lb"
      },
      "outputs": [],
      "source": [
        "from dgl.dataloading import NodeDataLoader"
      ]
    },
    {
      "cell_type": "code",
      "execution_count": null,
      "metadata": {
        "colab": {
          "base_uri": "https://localhost:8080/"
        },
        "id": "w1-egxmdXHCn",
        "outputId": "65c7d74e-9582-4ee2-a72d-bd877b6c24c4"
      },
      "outputs": [
        {
          "output_type": "execute_result",
          "data": {
            "text/plain": [
              "device(type='cuda')"
            ]
          },
          "metadata": {},
          "execution_count": 10
        }
      ],
      "source": [
        "device = th.device('cuda' if th.cuda.is_available() else 'cpu')\n",
        "device"
      ]
    },
    {
      "cell_type": "markdown",
      "metadata": {
        "id": "FFb-p_lbvNrR"
      },
      "source": [
        "LOAD DATASET"
      ]
    },
    {
      "cell_type": "code",
      "execution_count": null,
      "metadata": {
        "id": "tAxMjo8qvSiQ"
      },
      "outputs": [],
      "source": [
        "#load dataset\n",
        "Dataset = pd.read_csv(\"/content/carclaims.csv\")\n"
      ]
    },
    {
      "cell_type": "code",
      "execution_count": null,
      "metadata": {
        "colab": {
          "base_uri": "https://localhost:8080/"
        },
        "id": "qsEwp1S-lbl6",
        "outputId": "23e7c7bd-9dad-4cfc-ba80-e98e03298887"
      },
      "outputs": [
        {
          "output_type": "execute_result",
          "data": {
            "text/plain": [
              "0        False\n",
              "1        False\n",
              "2        False\n",
              "3        False\n",
              "4        False\n",
              "         ...  \n",
              "15415    False\n",
              "15416    False\n",
              "15417    False\n",
              "15418    False\n",
              "15419    False\n",
              "Length: 15420, dtype: bool"
            ]
          },
          "metadata": {},
          "execution_count": 12
        }
      ],
      "source": [
        "#Finding Duplicate \n",
        "Dataset.duplicated(subset = None, keep = 'first')"
      ]
    },
    {
      "cell_type": "code",
      "execution_count": null,
      "metadata": {
        "colab": {
          "base_uri": "https://localhost:8080/"
        },
        "id": "WuIwq8kLldnb",
        "outputId": "798f3df8-1d63-4694-a0ec-eb5db262580b"
      },
      "outputs": [
        {
          "output_type": "stream",
          "name": "stdout",
          "text": [
            "      Month  WeekOfMonth  DayOfWeek     Make AccidentArea DayOfWeekClaimed  \\\n",
            "0       Dec            5  Wednesday    Honda        Urban          Tuesday   \n",
            "1       Jan            3  Wednesday    Honda        Urban           Monday   \n",
            "2       Oct            5     Friday    Honda        Urban         Thursday   \n",
            "3       Jun            2   Saturday   Toyota        Rural           Friday   \n",
            "4       Jan            5     Monday    Honda        Urban          Tuesday   \n",
            "...     ...          ...        ...      ...          ...              ...   \n",
            "15415   Nov            4     Friday   Toyota        Urban          Tuesday   \n",
            "15416   Nov            5   Thursday  Pontiac        Urban           Friday   \n",
            "15417   Nov            5   Thursday   Toyota        Rural           Friday   \n",
            "15418   Dec            1     Monday   Toyota        Urban         Thursday   \n",
            "15419   Dec            2  Wednesday   Toyota        Urban         Thursday   \n",
            "\n",
            "      MonthClaimed  WeekOfMonthClaimed     Sex MaritalStatus  ...  \\\n",
            "0              Jan                   1  Female        Single  ...   \n",
            "1              Jan                   4    Male        Single  ...   \n",
            "2              Nov                   2    Male       Married  ...   \n",
            "3              Jul                   1    Male       Married  ...   \n",
            "4              Feb                   2  Female        Single  ...   \n",
            "...            ...                 ...     ...           ...  ...   \n",
            "15415          Nov                   5    Male       Married  ...   \n",
            "15416          Dec                   1    Male       Married  ...   \n",
            "15417          Dec                   1    Male        Single  ...   \n",
            "15418          Dec                   2  Female       Married  ...   \n",
            "15419          Dec                   3    Male        Single  ...   \n",
            "\n",
            "       AgeOfPolicyHolder PoliceReportFiled WitnessPresent AgentType  \\\n",
            "0               26 to 30                No             No  External   \n",
            "1               31 to 35               Yes             No  External   \n",
            "2               41 to 50                No             No  External   \n",
            "3               51 to 65               Yes             No  External   \n",
            "4               31 to 35                No             No  External   \n",
            "...                  ...               ...            ...       ...   \n",
            "15415           31 to 35                No             No  External   \n",
            "15416           31 to 35                No             No  External   \n",
            "15417           26 to 30                No             No  External   \n",
            "15418           31 to 35                No             No  External   \n",
            "15419           26 to 30                No             No  External   \n",
            "\n",
            "      NumberOfSuppliments  AddressChange-Claim  NumberOfCars  Year  \\\n",
            "0                    none               1 year        3 to 4  1994   \n",
            "1                    none            no change     1 vehicle  1994   \n",
            "2                    none            no change     1 vehicle  1994   \n",
            "3             more than 5            no change     1 vehicle  1994   \n",
            "4                    none            no change     1 vehicle  1994   \n",
            "...                   ...                  ...           ...   ...   \n",
            "15415                none            no change     1 vehicle  1996   \n",
            "15416         more than 5            no change        3 to 4  1996   \n",
            "15417              1 to 2            no change     1 vehicle  1996   \n",
            "15418         more than 5            no change     1 vehicle  1996   \n",
            "15419              1 to 2            no change     1 vehicle  1996   \n",
            "\n",
            "       BasePolicy FraudFound  \n",
            "0       Liability         No  \n",
            "1       Collision         No  \n",
            "2       Collision         No  \n",
            "3       Liability         No  \n",
            "4       Collision         No  \n",
            "...           ...        ...  \n",
            "15415   Collision        Yes  \n",
            "15416   Liability         No  \n",
            "15417   Collision        Yes  \n",
            "15418  All Perils         No  \n",
            "15419   Collision        Yes  \n",
            "\n",
            "[15420 rows x 33 columns]\n"
          ]
        }
      ],
      "source": [
        "# drop all rows that have NaN/None values\n",
        "Dataset2=Dataset.dropna()\n",
        "print(Dataset2)"
      ]
    },
    {
      "cell_type": "code",
      "execution_count": null,
      "metadata": {
        "id": "AywYU0V_5wRq"
      },
      "outputs": [],
      "source": [
        "# Replace the Labels to 0 and 1\n",
        "Dataset2.loc[Dataset2['FraudFound'] == 'No','FraudFound'] = 0\n",
        "Dataset2.loc[Dataset2['FraudFound'] == 'Yes','FraudFound'] = 1\n",
        "\n",
        "Dataset2['FraudFound'] = Dataset2['FraudFound'].astype(int)"
      ]
    },
    {
      "cell_type": "code",
      "execution_count": null,
      "metadata": {
        "id": "7O63etMJz45u"
      },
      "outputs": [],
      "source": [
        "#selected based on discretion \n",
        "df_new= Dataset2[['PolicyNumber','AccidentArea','Sex',\\\n",
        "       'MaritalStatus','Fault','DriverRating','RepNumber',\\\n",
        "       'PoliceReportFiled', 'WitnessPresent',\\\n",
        "       'BasePolicy', 'FraudFound']]"
      ]
    },
    {
      "cell_type": "code",
      "execution_count": null,
      "metadata": {
        "id": "RG9QWcDAllE-"
      },
      "outputs": [],
      "source": [
        "from sklearn.utils import resample"
      ]
    },
    {
      "cell_type": "markdown",
      "metadata": {
        "id": "qXWj6LfOjatp"
      },
      "source": [
        "**Oversampling** "
      ]
    },
    {
      "cell_type": "code",
      "source": [
        "n = df_new.FraudFound.value_counts()[1]\n",
        "\n",
        "df_majority = df_new[df_new.FraudFound==0]\n",
        "df_minority = df_new[df_new.FraudFound==1]\n",
        "\n",
        "df_majority_downsampled = resample(df_majority,replace=False,n_samples = n,random_state=42)\n",
        "\n",
        "df_downsampled = pd.concat([df_minority,df_majority_downsampled])\n",
        "df_downsampled.FraudFound.value_counts()"
      ],
      "metadata": {
        "colab": {
          "base_uri": "https://localhost:8080/"
        },
        "id": "JQ6BUwjQIhFZ",
        "outputId": "9b27481d-1587-4326-84d6-d57b14ce0e74"
      },
      "execution_count": null,
      "outputs": [
        {
          "output_type": "execute_result",
          "data": {
            "text/plain": [
              "1    923\n",
              "0    923\n",
              "Name: FraudFound, dtype: int64"
            ]
          },
          "metadata": {},
          "execution_count": 17
        }
      ]
    },
    {
      "cell_type": "code",
      "execution_count": null,
      "metadata": {
        "id": "RyWN9m66j2TF"
      },
      "outputs": [],
      "source": [
        "import matplotlib.pyplot as plt"
      ]
    },
    {
      "cell_type": "code",
      "execution_count": null,
      "metadata": {
        "colab": {
          "base_uri": "https://localhost:8080/",
          "height": 591
        },
        "id": "ynbK6iHcjn7c",
        "outputId": "31b71a75-02fb-4f17-c229-5be5bb967d23"
      },
      "outputs": [
        {
          "output_type": "display_data",
          "data": {
            "text/plain": [
              "<Figure size 1440x720 with 1 Axes>"
            ],
            "image/png": "[encoded data removed]"
          },
          "metadata": {}
        }
      ],
      "source": [
        "#Fraud Type Percentage\n",
        "plt.figure(figsize=(20,10))\n",
        "plt.pie(df_downsampled.FraudFound.value_counts().values,labels=df_downsampled.FraudFound.value_counts().index,  autopct='%.0f%%')\n",
        "plt.title(\"Fraud Type\")\n",
        "plt.show()"
      ]
    },
    {
      "cell_type": "markdown",
      "metadata": {
        "id": "wbQx4bIyAW2j"
      },
      "source": [
        "**Converting Dataset to Graph Data**"
      ]
    },
    {
      "cell_type": "code",
      "execution_count": null,
      "metadata": {
        "colab": {
          "base_uri": "https://localhost:8080/"
        },
        "id": "qCQKQ32OAbUZ",
        "outputId": "fff2d585-fbd0-48cc-9d6f-637f595f301a"
      },
      "outputs": [
        {
          "output_type": "execute_result",
          "data": {
            "text/plain": [
              "1"
            ]
          },
          "metadata": {},
          "execution_count": 20
        }
      ],
      "source": [
        "max(df_downsampled[\"PolicyNumber\"].value_counts())"
      ]
    },
    {
      "cell_type": "markdown",
      "metadata": {
        "id": "W6o5ZExGzWam"
      },
      "source": [
        "NODE"
      ]
    },
    {
      "cell_type": "code",
      "execution_count": null,
      "metadata": {
        "id": "TXvaJk5xTUJc"
      },
      "outputs": [],
      "source": [
        "# Sort to define the order of nodes\n",
        "sorted_df = df_downsampled.sort_values(by=\"PolicyNumber\")\n",
        "# Select node features\n",
        "node_features = sorted_df[['AccidentArea','Sex',\\\n",
        "       'MaritalStatus','Fault','RepNumber','BasePolicy',\\\n",
        "       'PoliceReportFiled', 'WitnessPresent']]"
      ]
    },
    {
      "cell_type": "code",
      "execution_count": null,
      "metadata": {
        "id": "aHov7jcnTekk"
      },
      "outputs": [],
      "source": [
        "# Convert non-numeric columns\n",
        "pd.set_option('mode.chained_assignment', None)\n",
        "#positions = node_features.str.split(\",\", expand=True)\n",
        "#node_features[\"first_position\"] = positions[0]"
      ]
    },
    {
      "cell_type": "code",
      "execution_count": null,
      "metadata": {
        "id": "iigXKHLOUfJK"
      },
      "outputs": [],
      "source": [
        "X_ohe = pd.get_dummies(node_features.astype(str), drop_first=True)\n"
      ]
    },
    {
      "cell_type": "code",
      "execution_count": null,
      "metadata": {
        "colab": {
          "base_uri": "https://localhost:8080/",
          "height": 317
        },
        "id": "EbZTr7yiywKb",
        "outputId": "7b5a8628-3959-4c06-e873-410188410f8a"
      },
      "outputs": [
        {
          "output_type": "execute_result",
          "data": {
            "text/plain": [
              "    AccidentArea_Urban  Sex_Male  MaritalStatus_Married  MaritalStatus_Single  \\\n",
              "14                   1         1                      1                     0   \n",
              "19                   1         1                      1                     0   \n",
              "27                   1         1                      1                     0   \n",
              "28                   1         1                      0                     1   \n",
              "32                   1         1                      0                     1   \n",
              "\n",
              "    MaritalStatus_Widow  Fault_Third Party  RepNumber_10  RepNumber_11  \\\n",
              "14                    0                  0             0             0   \n",
              "19                    0                  1             0             0   \n",
              "27                    0                  0             0             0   \n",
              "28                    0                  0             0             0   \n",
              "32                    0                  0             0             0   \n",
              "\n",
              "    RepNumber_12  RepNumber_13  ...  RepNumber_4  RepNumber_5  RepNumber_6  \\\n",
              "14             0             0  ...            0            0            0   \n",
              "19             0             0  ...            0            0            0   \n",
              "27             0             0  ...            0            0            0   \n",
              "28             0             0  ...            0            0            0   \n",
              "32             0             0  ...            0            0            0   \n",
              "\n",
              "    RepNumber_7  RepNumber_8  RepNumber_9  BasePolicy_Collision  \\\n",
              "14            0            0            0                     0   \n",
              "19            0            0            0                     0   \n",
              "27            0            0            0                     0   \n",
              "28            0            0            1                     0   \n",
              "32            0            0            0                     1   \n",
              "\n",
              "    BasePolicy_Liability  PoliceReportFiled_Yes  WitnessPresent_Yes  \n",
              "14                     1                      0                   0  \n",
              "19                     1                      0                   0  \n",
              "27                     0                      0                   0  \n",
              "28                     0                      0                   0  \n",
              "32                     0                      0                   0  \n",
              "\n",
              "[5 rows x 25 columns]"
            ],
            "text/html": [
              "\n",
              "  <div id=\"df-9b6e210f-beab-46b9-87e4-e975df91d1f5\">\n",
              "    <div class=\"colab-df-container\">\n",
              "      <div>\n",
              "<style scoped>\n",
              "    .dataframe tbody tr th:only-of-type {\n",
              "        vertical-align: middle;\n",
              "    }\n",
              "\n",
              "    .dataframe tbody tr th {\n",
              "        vertical-align: top;\n",
              "    }\n",
              "\n",
              "    .dataframe thead th {\n",
              "        text-align: right;\n",
              "    }\n",
              "</style>\n",
              "<table border=\"1\" class=\"dataframe\">\n",
              "  <thead>\n",
              "    <tr style=\"text-align: right;\">\n",
              "      <th></th>\n",
              "      <th>AccidentArea_Urban</th>\n",
              "      <th>Sex_Male</th>\n",
              "      <th>MaritalStatus_Married</th>\n",
              "      <th>MaritalStatus_Single</th>\n",
              "      <th>MaritalStatus_Widow</th>\n",
              "      <th>Fault_Third Party</th>\n",
              "      <th>RepNumber_10</th>\n",
              "      <th>RepNumber_11</th>\n",
              "      <th>RepNumber_12</th>\n",
              "      <th>RepNumber_13</th>\n",
              "      <th>...</th>\n",
              "      <th>RepNumber_4</th>\n",
              "      <th>RepNumber_5</th>\n",
              "      <th>RepNumber_6</th>\n",
              "      <th>RepNumber_7</th>\n",
              "      <th>RepNumber_8</th>\n",
              "      <th>RepNumber_9</th>\n",
              "      <th>BasePolicy_Collision</th>\n",
              "      <th>BasePolicy_Liability</th>\n",
              "      <th>PoliceReportFiled_Yes</th>\n",
              "      <th>WitnessPresent_Yes</th>\n",
              "    </tr>\n",
              "  </thead>\n",
              "  <tbody>\n",
              "    <tr>\n",
              "      <th>14</th>\n",
              "      <td>1</td>\n",
              "      <td>1</td>\n",
              "      <td>1</td>\n",
              "      <td>0</td>\n",
              "      <td>0</td>\n",
              "      <td>0</td>\n",
              "      <td>0</td>\n",
              "      <td>0</td>\n",
              "      <td>0</td>\n",
              "      <td>0</td>\n",
              "      <td>...</td>\n",
              "      <td>0</td>\n",
              "      <td>0</td>\n",
              "      <td>0</td>\n",
              "      <td>0</td>\n",
              "      <td>0</td>\n",
              "      <td>0</td>\n",
              "      <td>0</td>\n",
              "      <td>1</td>\n",
              "      <td>0</td>\n",
              "      <td>0</td>\n",
              "    </tr>\n",
              "    <tr>\n",
              "      <th>19</th>\n",
              "      <td>1</td>\n",
              "      <td>1</td>\n",
              "      <td>1</td>\n",
              "      <td>0</td>\n",
              "      <td>0</td>\n",
              "      <td>1</td>\n",
              "      <td>0</td>\n",
              "      <td>0</td>\n",
              "      <td>0</td>\n",
              "      <td>0</td>\n",
              "      <td>...</td>\n",
              "      <td>0</td>\n",
              "      <td>0</td>\n",
              "      <td>0</td>\n",
              "      <td>0</td>\n",
              "      <td>0</td>\n",
              "      <td>0</td>\n",
              "      <td>0</td>\n",
              "      <td>1</td>\n",
              "      <td>0</td>\n",
              "      <td>0</td>\n",
              "    </tr>\n",
              "    <tr>\n",
              "      <th>27</th>\n",
              "      <td>1</td>\n",
              "      <td>1</td>\n",
              "      <td>1</td>\n",
              "      <td>0</td>\n",
              "      <td>0</td>\n",
              "      <td>0</td>\n",
              "      <td>0</td>\n",
              "      <td>0</td>\n",
              "      <td>0</td>\n",
              "      <td>0</td>\n",
              "      <td>...</td>\n",
              "      <td>0</td>\n",
              "      <td>0</td>\n",
              "      <td>0</td>\n",
              "      <td>0</td>\n",
              "      <td>0</td>\n",
              "      <td>0</td>\n",
              "      <td>0</td>\n",
              "      <td>0</td>\n",
              "      <td>0</td>\n",
              "      <td>0</td>\n",
              "    </tr>\n",
              "    <tr>\n",
              "      <th>28</th>\n",
              "      <td>1</td>\n",
              "      <td>1</td>\n",
              "      <td>0</td>\n",
              "      <td>1</td>\n",
              "      <td>0</td>\n",
              "      <td>0</td>\n",
              "      <td>0</td>\n",
              "      <td>0</td>\n",
              "      <td>0</td>\n",
              "      <td>0</td>\n",
              "      <td>...</td>\n",
              "      <td>0</td>\n",
              "      <td>0</td>\n",
              "      <td>0</td>\n",
              "      <td>0</td>\n",
              "      <td>0</td>\n",
              "      <td>1</td>\n",
              "      <td>0</td>\n",
              "      <td>0</td>\n",
              "      <td>0</td>\n",
              "      <td>0</td>\n",
              "    </tr>\n",
              "    <tr>\n",
              "      <th>32</th>\n",
              "      <td>1</td>\n",
              "      <td>1</td>\n",
              "      <td>0</td>\n",
              "      <td>1</td>\n",
              "      <td>0</td>\n",
              "      <td>0</td>\n",
              "      <td>0</td>\n",
              "      <td>0</td>\n",
              "      <td>0</td>\n",
              "      <td>0</td>\n",
              "      <td>...</td>\n",
              "      <td>0</td>\n",
              "      <td>0</td>\n",
              "      <td>0</td>\n",
              "      <td>0</td>\n",
              "      <td>0</td>\n",
              "      <td>0</td>\n",
              "      <td>1</td>\n",
              "      <td>0</td>\n",
              "      <td>0</td>\n",
              "      <td>0</td>\n",
              "    </tr>\n",
              "  </tbody>\n",
              "</table>\n",
              "<p>5 rows × 25 columns</p>\n",
              "</div>\n",
              "      <button class=\"colab-df-convert\" onclick=\"convertToInteractive('df-9b6e210f-beab-46b9-87e4-e975df91d1f5')\"\n",
              "              title=\"Convert this dataframe to an interactive table.\"\n",
              "              style=\"display:none;\">\n",
              "        \n",
              "  <svg xmlns=\"http://www.w3.org/2000/svg\" height=\"24px\"viewBox=\"0 0 24 24\"\n",
              "       width=\"24px\">\n",
              "    <path d=\"M0 0h24v24H0V0z\" fill=\"none\"/>\n",
              "    <path d=\"M18.56 5.44l.94 2.06.94-2.06 2.06-.94-2.06-.94-.94-2.06-.94 2.06-2.06.94zm-11 1L8.5 8.5l.94-2.06 2.06-.94-2.06-.94L8.5 2.5l-.94 2.06-2.06.94zm10 10l.94 2.06.94-2.06 2.06-.94-2.06-.94-.94-2.06-.94 2.06-2.06.94z\"/><path d=\"M17.41 7.96l-1.37-1.37c-.4-.4-.92-.59-1.43-.59-.52 0-1.04.2-1.43.59L10.3 9.45l-7.72 7.72c-.78.78-.78 2.05 0 2.83L4 21.41c.39.39.9.59 1.41.59.51 0 1.02-.2 1.41-.59l7.78-7.78 2.81-2.81c.8-.78.8-2.07 0-2.86zM5.41 20L4 18.59l7.72-7.72 1.47 1.35L5.41 20z\"/>\n",
              "  </svg>\n",
              "      </button>\n",
              "      \n",
              "  <style>\n",
              "    .colab-df-container {\n",
              "      display:flex;\n",
              "      flex-wrap:wrap;\n",
              "      gap: 12px;\n",
              "    }\n",
              "\n",
              "    .colab-df-convert {\n",
              "      background-color: #E8F0FE;\n",
              "      border: none;\n",
              "      border-radius: 50%;\n",
              "      cursor: pointer;\n",
              "      display: none;\n",
              "      fill: #1967D2;\n",
              "      height: 32px;\n",
              "      padding: 0 0 0 0;\n",
              "      width: 32px;\n",
              "    }\n",
              "\n",
              "    .colab-df-convert:hover {\n",
              "      background-color: #E2EBFA;\n",
              "      box-shadow: 0px 1px 2px rgba(60, 64, 67, 0.3), 0px 1px 3px 1px rgba(60, 64, 67, 0.15);\n",
              "      fill: #174EA6;\n",
              "    }\n",
              "\n",
              "    [theme=dark] .colab-df-convert {\n",
              "      background-color: #3B4455;\n",
              "      fill: #D2E3FC;\n",
              "    }\n",
              "\n",
              "    [theme=dark] .colab-df-convert:hover {\n",
              "      background-color: #434B5C;\n",
              "      box-shadow: 0px 1px 3px 1px rgba(0, 0, 0, 0.15);\n",
              "      filter: drop-shadow(0px 1px 2px rgba(0, 0, 0, 0.3));\n",
              "      fill: #FFFFFF;\n",
              "    }\n",
              "  </style>\n",
              "\n",
              "      <script>\n",
              "        const buttonEl =\n",
              "          document.querySelector('#df-9b6e210f-beab-46b9-87e4-e975df91d1f5 button.colab-df-convert');\n",
              "        buttonEl.style.display =\n",
              "          google.colab.kernel.accessAllowed ? 'block' : 'none';\n",
              "\n",
              "        async function convertToInteractive(key) {\n",
              "          const element = document.querySelector('#df-9b6e210f-beab-46b9-87e4-e975df91d1f5');\n",
              "          const dataTable =\n",
              "            await google.colab.kernel.invokeFunction('convertToInteractive',\n",
              "                                                     [key], {});\n",
              "          if (!dataTable) return;\n",
              "\n",
              "          const docLinkHtml = 'Like what you see? Visit the ' +\n",
              "            '<a target=\"_blank\" href=https://colab.research.google.com/notebooks/data_table.ipynb>data table notebook</a>'\n",
              "            + ' to learn more about interactive tables.';\n",
              "          element.innerHTML = '';\n",
              "          dataTable['output_type'] = 'display_data';\n",
              "          await google.colab.output.renderOutput(dataTable, element);\n",
              "          const docLink = document.createElement('div');\n",
              "          docLink.innerHTML = docLinkHtml;\n",
              "          element.appendChild(docLink);\n",
              "        }\n",
              "      </script>\n",
              "    </div>\n",
              "  </div>\n",
              "  "
            ]
          },
          "metadata": {},
          "execution_count": 24
        }
      ],
      "source": [
        "X_ohe.head()"
      ]
    },
    {
      "cell_type": "code",
      "execution_count": null,
      "metadata": {
        "colab": {
          "base_uri": "https://localhost:8080/"
        },
        "id": "rP1jOkMEzETx",
        "outputId": "ad47cdf6-cfcf-4473-d7ab-9ecf2e2aa01d"
      },
      "outputs": [
        {
          "output_type": "execute_result",
          "data": {
            "text/plain": [
              "(1846, 25)"
            ]
          },
          "metadata": {},
          "execution_count": 25
        }
      ],
      "source": [
        "# Convert to numpy\n",
        "x = X_ohe.to_numpy()\n",
        "x.shape"
      ]
    },
    {
      "cell_type": "code",
      "execution_count": null,
      "metadata": {
        "id": "EPK5APtvBip1"
      },
      "outputs": [],
      "source": [
        "from sklearn import preprocessing\n",
        "\n",
        "X= preprocessing.normalize(x)"
      ]
    },
    {
      "cell_type": "code",
      "execution_count": null,
      "metadata": {
        "colab": {
          "base_uri": "https://localhost:8080/"
        },
        "id": "ZumT9wk1Bua6",
        "outputId": "30e1f27f-5190-4a0b-ad56-4b0bda207fe9"
      },
      "outputs": [
        {
          "output_type": "execute_result",
          "data": {
            "text/plain": [
              "array([[0.4472136 , 0.4472136 , 0.4472136 , ..., 0.4472136 , 0.        ,\n",
              "        0.        ],\n",
              "       [0.40824829, 0.40824829, 0.40824829, ..., 0.40824829, 0.        ,\n",
              "        0.        ],\n",
              "       [0.57735027, 0.57735027, 0.57735027, ..., 0.        , 0.        ,\n",
              "        0.        ],\n",
              "       ...,\n",
              "       [0.4472136 , 0.4472136 , 0.4472136 , ..., 0.        , 0.        ,\n",
              "        0.        ],\n",
              "       [0.        , 0.5       , 0.        , ..., 0.        , 0.        ,\n",
              "        0.        ],\n",
              "       [0.4472136 , 0.4472136 , 0.        , ..., 0.        , 0.        ,\n",
              "        0.        ]])"
            ]
          },
          "metadata": {},
          "execution_count": 27
        }
      ],
      "source": [
        "X"
      ]
    },
    {
      "cell_type": "markdown",
      "metadata": {
        "id": "Sx8kNXwCzaOg"
      },
      "source": [
        "LABELS"
      ]
    },
    {
      "cell_type": "code",
      "execution_count": null,
      "metadata": {
        "colab": {
          "base_uri": "https://localhost:8080/"
        },
        "id": "j8lCDUmPiBKx",
        "outputId": "c836c440-9d8d-427c-a90e-e4b3645ede0f"
      },
      "outputs": [
        {
          "output_type": "execute_result",
          "data": {
            "text/plain": [
              "14    0\n",
              "19    0\n",
              "27    0\n",
              "28    1\n",
              "32    0\n",
              "Name: FraudFound, dtype: int64"
            ]
          },
          "metadata": {},
          "execution_count": 28
        }
      ],
      "source": [
        "#labels\n",
        "sorted_df = df_downsampled.sort_values(by=\"PolicyNumber\")\n",
        "# Select labels\n",
        "labels = sorted_df[\"FraudFound\"]\n",
        "labels.head()"
      ]
    },
    {
      "cell_type": "code",
      "execution_count": null,
      "metadata": {
        "colab": {
          "base_uri": "https://localhost:8080/"
        },
        "id": "wzb2KBreiPNr",
        "outputId": "510dd20a-42f7-4d32-ebf7-db834175f4a0"
      },
      "outputs": [
        {
          "output_type": "execute_result",
          "data": {
            "text/plain": [
              "(1846,)"
            ]
          },
          "metadata": {},
          "execution_count": 29
        }
      ],
      "source": [
        "# Convert to numpy\n",
        "y = labels.to_numpy()\n",
        "y.shape"
      ]
    },
    {
      "cell_type": "code",
      "execution_count": null,
      "metadata": {
        "colab": {
          "base_uri": "https://localhost:8080/"
        },
        "id": "j9tQe-b6zJqd",
        "outputId": "39c3dffd-7c32-4ac2-c908-eece70d8fa2c"
      },
      "outputs": [
        {
          "output_type": "execute_result",
          "data": {
            "text/plain": [
              "array([0, 0, 0, ..., 1, 1, 1])"
            ]
          },
          "metadata": {},
          "execution_count": 30
        }
      ],
      "source": [
        "y"
      ]
    },
    {
      "cell_type": "markdown",
      "metadata": {
        "id": "8-NAKHCAzhZx"
      },
      "source": [
        "EDGES"
      ]
    },
    {
      "cell_type": "code",
      "execution_count": null,
      "metadata": {
        "id": "sCFFPQvuicBb"
      },
      "outputs": [],
      "source": [
        "# Remap \n",
        "df_downsampled[\"PolicyNumber\"] = df_downsampled.reset_index().index"
      ]
    },
    {
      "cell_type": "code",
      "execution_count": null,
      "metadata": {
        "colab": {
          "base_uri": "https://localhost:8080/"
        },
        "id": "fYkN8WM6iq3u",
        "outputId": "a84a641b-cf59-4c99-99d8-d4a75ed32130"
      },
      "outputs": [
        {
          "output_type": "execute_result",
          "data": {
            "text/plain": [
              "3    477\n",
              "1    464\n",
              "4    460\n",
              "2    445\n",
              "Name: DriverRating, dtype: int64"
            ]
          },
          "metadata": {},
          "execution_count": 32
        }
      ],
      "source": [
        "df_downsampled[\"DriverRating\"].value_counts()"
      ]
    },
    {
      "cell_type": "code",
      "execution_count": null,
      "metadata": {
        "colab": {
          "base_uri": "https://localhost:8080/"
        },
        "id": "44kG9bJFiqRi",
        "outputId": "b7874634-8aa7-47fb-83ec-991eb7259249"
      },
      "outputs": [
        {
          "output_type": "execute_result",
          "data": {
            "text/plain": [
              "array([[   0,    0,    0, ..., 1833, 1833, 1836],\n",
              "       [   2,    5,   20, ..., 1836, 1843, 1843]])"
            ]
          },
          "metadata": {},
          "execution_count": 33
        }
      ],
      "source": [
        "import itertools\n",
        "import numpy as np\n",
        "\n",
        "types = df_downsampled[\"DriverRating\"].unique()\n",
        "all_edges = np.array([], dtype=np.int32).reshape((0, 2))\n",
        "for base in types:\n",
        "    types_df = df_downsampled[df_downsampled[\"DriverRating\"] == base]\n",
        "    individuals = types_df[\"PolicyNumber\"].values\n",
        "    # Build all combinations\n",
        "    permutations = list(itertools.combinations(individuals, 2))\n",
        "    edges_source = [e[0] for e in permutations]\n",
        "    edges_target = [e[1] for e in permutations]\n",
        "    types_edges = np.column_stack([edges_source, edges_target])\n",
        "    all_edges = np.vstack([all_edges, types_edges])\n",
        "# Convert to Pytorch Geometric format\n",
        "edge_index = all_edges.transpose()\n",
        "edge_index # [2, num_edges]"
      ]
    },
    {
      "cell_type": "code",
      "execution_count": null,
      "metadata": {
        "colab": {
          "base_uri": "https://localhost:8080/"
        },
        "id": "vUZ0nWfM9K27",
        "outputId": "ed564338-30ea-49c1-daf8-bd3e287f0c10"
      },
      "outputs": [
        {
          "output_type": "stream",
          "name": "stdout",
          "text": [
            "1.13.0+cu116\n",
            "\u001b[2K     \u001b[90m━━━━━━━━━━━━━━━━━━━━━━━━━━━━━━━━━━━━━━━━\u001b[0m \u001b[32m9.4/9.4 MB\u001b[0m \u001b[31m73.5 MB/s\u001b[0m eta \u001b[36m0:00:00\u001b[0m\n",
            "\u001b[2K     \u001b[90m━━━━━━━━━━━━━━━━━━━━━━━━━━━━━━━━━━━━━━━━\u001b[0m \u001b[32m4.5/4.5 MB\u001b[0m \u001b[31m77.8 MB/s\u001b[0m eta \u001b[36m0:00:00\u001b[0m\n",
            "\u001b[?25h  Preparing metadata (setup.py) ... \u001b[?25l\u001b[?25hdone\n",
            "\u001b[2K     \u001b[90m━━━━━━━━━━━━━━━━━━━━━━━━━━━━━━━━━━━━━━\u001b[0m \u001b[32m512.4/512.4 KB\u001b[0m \u001b[31m33.5 MB/s\u001b[0m eta \u001b[36m0:00:00\u001b[0m\n",
            "\u001b[?25h  Building wheel for torch-geometric (setup.py) ... \u001b[?25l\u001b[?25hdone\n"
          ]
        }
      ],
      "source": [
        "# Install required packages.\n",
        "import os\n",
        "import torch\n",
        "os.environ['TORCH'] = torch.__version__\n",
        "print(torch.__version__)\n",
        "\n",
        "!pip install -q torch-scatter -f https://data.pyg.org/whl/torch-${TORCH}.html\n",
        "!pip install -q torch-sparse -f https://data.pyg.org/whl/torch-${TORCH}.html\n",
        "!pip install -q git+https://github.com/pyg-team/pytorch_geometric.git\n",
        "\n",
        "# Helper function for visualization.\n",
        "%matplotlib inline\n",
        "import matplotlib.pyplot as plt\n",
        "from sklearn.manifold import TSNE\n",
        "\n",
        "def visualize(h, color):\n",
        "    z = TSNE(n_components=2).fit_transform(h.detach().cpu().numpy())\n",
        "\n",
        "    plt.figure(figsize=(10,10))\n",
        "    plt.xticks([])\n",
        "    plt.yticks([])\n",
        "\n",
        "    plt.scatter(z[:, 0], z[:, 1], s=70, c=color, cmap=\"Set2\")\n",
        "    plt.show()"
      ]
    },
    {
      "cell_type": "code",
      "execution_count": null,
      "metadata": {
        "id": "ZmiW6hQ5C4bD"
      },
      "outputs": [],
      "source": [
        "X=X.astype(np.float32)"
      ]
    },
    {
      "cell_type": "code",
      "execution_count": null,
      "metadata": {
        "colab": {
          "base_uri": "https://localhost:8080/"
        },
        "id": "9kNnsqguC-Sj",
        "outputId": "e730e4ec-ec9e-40cf-c99e-15f50801ce1f"
      },
      "outputs": [
        {
          "output_type": "execute_result",
          "data": {
            "text/plain": [
              "array([[0.4472136 , 0.4472136 , 0.4472136 , ..., 0.4472136 , 0.        ,\n",
              "        0.        ],\n",
              "       [0.4082483 , 0.4082483 , 0.4082483 , ..., 0.4082483 , 0.        ,\n",
              "        0.        ],\n",
              "       [0.57735026, 0.57735026, 0.57735026, ..., 0.        , 0.        ,\n",
              "        0.        ],\n",
              "       ...,\n",
              "       [0.4472136 , 0.4472136 , 0.4472136 , ..., 0.        , 0.        ,\n",
              "        0.        ],\n",
              "       [0.        , 0.5       , 0.        , ..., 0.        , 0.        ,\n",
              "        0.        ],\n",
              "       [0.4472136 , 0.4472136 , 0.        , ..., 0.        , 0.        ,\n",
              "        0.        ]], dtype=float32)"
            ]
          },
          "metadata": {},
          "execution_count": 36
        }
      ],
      "source": [
        "X"
      ]
    },
    {
      "cell_type": "code",
      "execution_count": null,
      "metadata": {
        "id": "GeQbSTn90mTU"
      },
      "outputs": [],
      "source": [
        "from torch_geometric.data import Data"
      ]
    },
    {
      "cell_type": "code",
      "execution_count": null,
      "metadata": {
        "id": "Hrtqvfzo9qU7"
      },
      "outputs": [],
      "source": [
        "data = Data(x=torch.tensor(X), edge_index=torch.tensor(edge_index), y=torch.tensor(y) , num_classes = 2 ) "
      ]
    },
    {
      "cell_type": "code",
      "execution_count": null,
      "metadata": {
        "colab": {
          "base_uri": "https://localhost:8080/"
        },
        "id": "4Ivx3zQA9yn4",
        "outputId": "dfed7ca7-6b7d-4b2d-bb34-dba73f94e81c"
      },
      "outputs": [
        {
          "output_type": "execute_result",
          "data": {
            "text/plain": [
              "Data(x=[1846, 25], edge_index=[2, 425302], y=[1846], num_classes=2)"
            ]
          },
          "metadata": {},
          "execution_count": 39
        }
      ],
      "source": [
        "data"
      ]
    },
    {
      "cell_type": "code",
      "execution_count": null,
      "metadata": {
        "colab": {
          "base_uri": "https://localhost:8080/"
        },
        "id": "cLvjxZGExDwE",
        "outputId": "975fcccf-e3cc-490f-de59-e3a7e06e6b7b"
      },
      "outputs": [
        {
          "output_type": "execute_result",
          "data": {
            "text/plain": [
              "tensor([[0.4472, 0.4472, 0.4472,  ..., 0.4472, 0.0000, 0.0000],\n",
              "        [0.4082, 0.4082, 0.4082,  ..., 0.4082, 0.0000, 0.0000],\n",
              "        [0.5774, 0.5774, 0.5774,  ..., 0.0000, 0.0000, 0.0000],\n",
              "        ...,\n",
              "        [0.4472, 0.4472, 0.4472,  ..., 0.0000, 0.0000, 0.0000],\n",
              "        [0.0000, 0.5000, 0.0000,  ..., 0.0000, 0.0000, 0.0000],\n",
              "        [0.4472, 0.4472, 0.0000,  ..., 0.0000, 0.0000, 0.0000]])"
            ]
          },
          "metadata": {},
          "execution_count": 40
        }
      ],
      "source": [
        "data.x"
      ]
    },
    {
      "cell_type": "code",
      "execution_count": null,
      "metadata": {
        "colab": {
          "base_uri": "https://localhost:8080/"
        },
        "id": "IKJKe8AsxJXb",
        "outputId": "90abc097-202d-42e6-a54f-f6843927e0c3"
      },
      "outputs": [
        {
          "output_type": "execute_result",
          "data": {
            "text/plain": [
              "tensor([[   0,    0,    0,  ..., 1833, 1833, 1836],\n",
              "        [   2,    5,   20,  ..., 1836, 1843, 1843]])"
            ]
          },
          "metadata": {},
          "execution_count": 41
        }
      ],
      "source": [
        "data.edge_index"
      ]
    },
    {
      "cell_type": "code",
      "execution_count": null,
      "metadata": {
        "colab": {
          "base_uri": "https://localhost:8080/"
        },
        "id": "6WfeCjYbxS6X",
        "outputId": "23c033c7-f242-4477-eaba-be7d306519bb"
      },
      "outputs": [
        {
          "output_type": "execute_result",
          "data": {
            "text/plain": [
              "tensor([0, 0, 0,  ..., 1, 1, 1])"
            ]
          },
          "metadata": {},
          "execution_count": 42
        }
      ],
      "source": [
        "data.y"
      ]
    },
    {
      "cell_type": "markdown",
      "metadata": {
        "id": "XhkY1By3wLJ4"
      },
      "source": [
        "Split to training and testing "
      ]
    },
    {
      "cell_type": "code",
      "execution_count": null,
      "metadata": {
        "id": "PepXUDyZ1N24"
      },
      "outputs": [],
      "source": [
        "train_ratio = 0.2\n",
        "num_nodes = data.x.shape[0]\n",
        "num_train = int(num_nodes * train_ratio)\n",
        "idx = [i for i in range(num_nodes)]"
      ]
    },
    {
      "cell_type": "code",
      "execution_count": null,
      "metadata": {
        "id": "8GzK8NHV1SEq"
      },
      "outputs": [],
      "source": [
        "np.random.shuffle(idx)\n",
        "train_mask = torch.full_like(data.y, False, dtype=bool)\n",
        "train_mask[idx[:num_train]] = True\n",
        "test_mask = torch.full_like(data.y, False, dtype=bool)\n",
        "test_mask[idx[num_train:]] = True"
      ]
    },
    {
      "cell_type": "code",
      "execution_count": null,
      "metadata": {
        "colab": {
          "base_uri": "https://localhost:8080/"
        },
        "id": "f0GbMba31s2z",
        "outputId": "e8586fdd-967b-47f2-87eb-dede3cfdcf67"
      },
      "outputs": [
        {
          "output_type": "stream",
          "name": "stdout",
          "text": [
            "tensor([False, False, False,  ..., False, False, False])\n",
            "tensor([True, True, True,  ..., True, True, True])\n"
          ]
        }
      ],
      "source": [
        "print(train_mask)\n",
        "# tensor([ True, False, False, False, False])\n",
        "print(test_mask)\n",
        "# tensor([False,  True,  True,  True,  True])"
      ]
    },
    {
      "cell_type": "code",
      "execution_count": null,
      "metadata": {
        "colab": {
          "base_uri": "https://localhost:8080/"
        },
        "id": "PAX6H3nOLzNB",
        "outputId": "7bb9a5a5-6563-42e5-c57f-b86973fd4ea5"
      },
      "outputs": [
        {
          "output_type": "stream",
          "name": "stdout",
          "text": [
            "425302\n"
          ]
        }
      ],
      "source": [
        "\n",
        "# check number of edges of the graph\n",
        "print(data.num_edges)"
      ]
    },
    {
      "cell_type": "code",
      "execution_count": null,
      "metadata": {
        "colab": {
          "base_uri": "https://localhost:8080/"
        },
        "id": "AwrLDqbDL3RK",
        "outputId": "9f8593cf-d7b6-4ce3-83c5-447d816f0188"
      },
      "outputs": [
        {
          "output_type": "stream",
          "name": "stdout",
          "text": [
            "1846\n"
          ]
        }
      ],
      "source": [
        "\n",
        "# check number of nodes of the graph\n",
        "print(data.num_nodes)\n",
        "     "
      ]
    },
    {
      "cell_type": "code",
      "execution_count": null,
      "metadata": {
        "colab": {
          "base_uri": "https://localhost:8080/"
        },
        "id": "t_wW8cuJL8TB",
        "outputId": "a96aa9fb-258c-438e-8fd5-e764f00e2fcb"
      },
      "outputs": [
        {
          "output_type": "stream",
          "name": "stdout",
          "text": [
            "25\n"
          ]
        }
      ],
      "source": [
        "\n",
        "# check number of features of the graph\n",
        "print(data.num_features)"
      ]
    },
    {
      "cell_type": "code",
      "execution_count": null,
      "metadata": {
        "colab": {
          "base_uri": "https://localhost:8080/"
        },
        "id": "JNZT7Z55MDpS",
        "outputId": "50d30e75-074b-4dc9-e30a-cef1e2e3087f"
      },
      "outputs": [
        {
          "output_type": "stream",
          "name": "stdout",
          "text": [
            "True\n"
          ]
        }
      ],
      "source": [
        "\n",
        "# check if graph is directed\n",
        "print(data.is_directed())"
      ]
    },
    {
      "cell_type": "code",
      "execution_count": null,
      "metadata": {
        "colab": {
          "base_uri": "https://localhost:8080/"
        },
        "id": "4Vur8EkUt5_P",
        "outputId": "719ebb22-100b-4199-e732-f34e38e1f3f3"
      },
      "outputs": [
        {
          "output_type": "execute_result",
          "data": {
            "text/plain": [
              "tensor([[   0,    0,    0,  ..., 1833, 1833, 1836],\n",
              "        [   2,    5,   20,  ..., 1836, 1843, 1843]])"
            ]
          },
          "metadata": {},
          "execution_count": 50
        }
      ],
      "source": [
        "data.edge_index"
      ]
    },
    {
      "cell_type": "code",
      "execution_count": null,
      "metadata": {
        "colab": {
          "base_uri": "https://localhost:8080/"
        },
        "id": "gxAIFi4guP0i",
        "outputId": "b5be24bc-ef49-46bf-9b86-fbaeb1089b7a"
      },
      "outputs": [
        {
          "output_type": "execute_result",
          "data": {
            "text/plain": [
              "tensor([[0.4472, 0.4472, 0.4472,  ..., 0.4472, 0.0000, 0.0000],\n",
              "        [0.4082, 0.4082, 0.4082,  ..., 0.4082, 0.0000, 0.0000],\n",
              "        [0.5774, 0.5774, 0.5774,  ..., 0.0000, 0.0000, 0.0000],\n",
              "        ...,\n",
              "        [0.4472, 0.4472, 0.4472,  ..., 0.0000, 0.0000, 0.0000],\n",
              "        [0.0000, 0.5000, 0.0000,  ..., 0.0000, 0.0000, 0.0000],\n",
              "        [0.4472, 0.4472, 0.0000,  ..., 0.0000, 0.0000, 0.0000]])"
            ]
          },
          "metadata": {},
          "execution_count": 51
        }
      ],
      "source": [
        "data.x"
      ]
    },
    {
      "cell_type": "code",
      "execution_count": null,
      "metadata": {
        "colab": {
          "base_uri": "https://localhost:8080/"
        },
        "id": "dbu43Unljdkt",
        "outputId": "b64d0b03-4890-4858-f380-76c87b61af16"
      },
      "outputs": [
        {
          "output_type": "stream",
          "name": "stdout",
          "text": [
            "Number of nodes: 1846\n",
            "Number of edges: 425302\n",
            "Average node degree: 230.39\n"
          ]
        }
      ],
      "source": [
        "# Gather some statistics about the graph.\n",
        "print(f'Number of nodes: {data.num_nodes}')\n",
        "print(f'Number of edges: {data.num_edges}')\n",
        "print(f'Average node degree: {data.num_edges / data.num_nodes:.2f}')"
      ]
    },
    {
      "cell_type": "code",
      "execution_count": null,
      "metadata": {
        "colab": {
          "base_uri": "https://localhost:8080/"
        },
        "id": "YOxp2rgTAYef",
        "outputId": "1bec9fda-07e9-45d1-8ce2-239aa507d43b"
      },
      "outputs": [
        {
          "output_type": "stream",
          "name": "stdout",
          "text": [
            "Number of graphs: 4\n",
            "Number of features: 25\n",
            "Number of classes: 2\n"
          ]
        }
      ],
      "source": [
        "print(f'Number of graphs: {len(data)}')\n",
        "print(f'Number of features: {data.num_features}')\n",
        "print(f'Number of classes: {data.num_classes}')"
      ]
    },
    {
      "cell_type": "markdown",
      "metadata": {
        "id": "qDhtMuklqAga"
      },
      "source": [
        "**GNN MODEL**"
      ]
    },
    {
      "cell_type": "code",
      "execution_count": null,
      "metadata": {
        "colab": {
          "base_uri": "https://localhost:8080/"
        },
        "id": "_lCJ4YCrgWzn",
        "outputId": "830cf7e5-4a90-4849-ee4e-fbb9325f3b1c"
      },
      "outputs": [
        {
          "output_type": "stream",
          "name": "stdout",
          "text": [
            "GCN(\n",
            "  (conv1): GCNConv(25, 16)\n",
            "  (conv2): GCNConv(16, 2)\n",
            ")\n"
          ]
        }
      ],
      "source": [
        "from torch_geometric.nn import GCNConv\n",
        "\n",
        "\n",
        "class GCN(torch.nn.Module):\n",
        "    def __init__(self, hidden_channels):\n",
        "        super().__init__()\n",
        "        torch.manual_seed(1234567)\n",
        "        self.conv1 = GCNConv(data.num_features, hidden_channels)\n",
        "        self.conv2 = GCNConv(hidden_channels, data.num_classes)\n",
        "\n",
        "    def forward(self, x, edge_index):\n",
        "        x = self.conv1(x, edge_index)\n",
        "        x = x.relu()\n",
        "        x = F.dropout(x, p=0.5, training=self.training)\n",
        "        x = self.conv2(x, edge_index)\n",
        "        return x\n",
        "\n",
        "model = GCN(hidden_channels=16)\n",
        "print(model)"
      ]
    },
    {
      "cell_type": "code",
      "execution_count": null,
      "metadata": {
        "colab": {
          "base_uri": "https://localhost:8080/",
          "height": 650
        },
        "id": "1zqVHHjvrGfy",
        "outputId": "26b97959-969d-433a-9c05-e838244f2632"
      },
      "outputs": [
        {
          "output_type": "stream",
          "name": "stderr",
          "text": [
            "/usr/local/lib/python3.8/dist-packages/sklearn/manifold/_t_sne.py:780: FutureWarning: The default initialization in TSNE will change from 'random' to 'pca' in 1.2.\n",
            "  warnings.warn(\n",
            "/usr/local/lib/python3.8/dist-packages/sklearn/manifold/_t_sne.py:790: FutureWarning: The default learning rate in TSNE will change from 200.0 to 'auto' in 1.2.\n",
            "  warnings.warn(\n"
          ]
        },
        {
          "output_type": "display_data",
          "data": {
            "text/plain": [
              "<Figure size 720x720 with 1 Axes>"
            ],
            "image/png": "[encoded data removed]"
          },
          "metadata": {}
        }
      ],
      "source": [
        "model = GCN(hidden_channels=16)\n",
        "model.eval()\n",
        "\n",
        "out = model(data.x, data.edge_index)\n",
        "visualize(out, color=data.y)"
      ]
    },
    {
      "cell_type": "code",
      "execution_count": null,
      "metadata": {
        "colab": {
          "base_uri": "https://localhost:8080/",
          "height": 300
        },
        "id": "uXxh8qU2rbIt",
        "outputId": "c633b709-e172-432a-fc5b-c7ca3a830db5"
      },
      "outputs": [
        {
          "output_type": "display_data",
          "data": {
            "text/plain": [
              "<IPython.core.display.Javascript object>"
            ],
            "application/javascript": [
              "google.colab.output.setIframeHeight(0, true, {maxHeight: 300})"
            ]
          },
          "metadata": {}
        },
        {
          "output_type": "stream",
          "name": "stdout",
          "text": [
            "Epoch: 001, Loss: 0.7128\n",
            "Epoch: 002, Loss: 0.6958\n",
            "Epoch: 003, Loss: 0.7077\n",
            "Epoch: 004, Loss: 0.7014\n",
            "Epoch: 005, Loss: 0.6926\n",
            "Epoch: 006, Loss: 0.6957\n",
            "Epoch: 007, Loss: 0.6956\n",
            "Epoch: 008, Loss: 0.6945\n",
            "Epoch: 009, Loss: 0.6957\n",
            "Epoch: 010, Loss: 0.6941\n",
            "Epoch: 011, Loss: 0.6913\n",
            "Epoch: 012, Loss: 0.6916\n",
            "Epoch: 013, Loss: 0.6910\n",
            "Epoch: 014, Loss: 0.6907\n",
            "Epoch: 015, Loss: 0.6929\n",
            "Epoch: 016, Loss: 0.6929\n",
            "Epoch: 017, Loss: 0.6936\n",
            "Epoch: 018, Loss: 0.6905\n",
            "Epoch: 019, Loss: 0.6899\n",
            "Epoch: 020, Loss: 0.6922\n",
            "Epoch: 021, Loss: 0.6916\n",
            "Epoch: 022, Loss: 0.6913\n",
            "Epoch: 023, Loss: 0.6907\n",
            "Epoch: 024, Loss: 0.6902\n",
            "Epoch: 025, Loss: 0.6914\n",
            "Epoch: 026, Loss: 0.6917\n",
            "Epoch: 027, Loss: 0.6908\n",
            "Epoch: 028, Loss: 0.6907\n",
            "Epoch: 029, Loss: 0.6902\n",
            "Epoch: 030, Loss: 0.6908\n",
            "Epoch: 031, Loss: 0.6902\n",
            "Epoch: 032, Loss: 0.6908\n",
            "Epoch: 033, Loss: 0.6903\n",
            "Epoch: 034, Loss: 0.6902\n",
            "Epoch: 035, Loss: 0.6908\n",
            "Epoch: 036, Loss: 0.6909\n",
            "Epoch: 037, Loss: 0.6906\n",
            "Epoch: 038, Loss: 0.6910\n",
            "Epoch: 039, Loss: 0.6898\n",
            "Epoch: 040, Loss: 0.6906\n",
            "Epoch: 041, Loss: 0.6900\n",
            "Epoch: 042, Loss: 0.6904\n",
            "Epoch: 043, Loss: 0.6911\n",
            "Epoch: 044, Loss: 0.6912\n",
            "Epoch: 045, Loss: 0.6904\n",
            "Epoch: 046, Loss: 0.6911\n",
            "Epoch: 047, Loss: 0.6910\n",
            "Epoch: 048, Loss: 0.6912\n",
            "Epoch: 049, Loss: 0.6915\n",
            "Epoch: 050, Loss: 0.6906\n",
            "Epoch: 051, Loss: 0.6908\n",
            "Epoch: 052, Loss: 0.6899\n",
            "Epoch: 053, Loss: 0.6904\n",
            "Epoch: 054, Loss: 0.6905\n",
            "Epoch: 055, Loss: 0.6901\n",
            "Epoch: 056, Loss: 0.6905\n",
            "Epoch: 057, Loss: 0.6898\n",
            "Epoch: 058, Loss: 0.6907\n",
            "Epoch: 059, Loss: 0.6902\n",
            "Epoch: 060, Loss: 0.6909\n",
            "Epoch: 061, Loss: 0.6901\n",
            "Epoch: 062, Loss: 0.6906\n",
            "Epoch: 063, Loss: 0.6902\n",
            "Epoch: 064, Loss: 0.6902\n",
            "Epoch: 065, Loss: 0.6905\n",
            "Epoch: 066, Loss: 0.6909\n",
            "Epoch: 067, Loss: 0.6901\n",
            "Epoch: 068, Loss: 0.6908\n",
            "Epoch: 069, Loss: 0.6908\n",
            "Epoch: 070, Loss: 0.6906\n",
            "Epoch: 071, Loss: 0.6906\n",
            "Epoch: 072, Loss: 0.6909\n",
            "Epoch: 073, Loss: 0.6900\n",
            "Epoch: 074, Loss: 0.6905\n",
            "Epoch: 075, Loss: 0.6904\n",
            "Epoch: 076, Loss: 0.6900\n",
            "Epoch: 077, Loss: 0.6899\n",
            "Epoch: 078, Loss: 0.6896\n",
            "Epoch: 079, Loss: 0.6903\n",
            "Epoch: 080, Loss: 0.6897\n",
            "Epoch: 081, Loss: 0.6907\n",
            "Epoch: 082, Loss: 0.6892\n",
            "Epoch: 083, Loss: 0.6894\n",
            "Epoch: 084, Loss: 0.6899\n",
            "Epoch: 085, Loss: 0.6904\n",
            "Epoch: 086, Loss: 0.6897\n",
            "Epoch: 087, Loss: 0.6901\n",
            "Epoch: 088, Loss: 0.6906\n",
            "Epoch: 089, Loss: 0.6900\n",
            "Epoch: 090, Loss: 0.6896\n",
            "Epoch: 091, Loss: 0.6900\n",
            "Epoch: 092, Loss: 0.6901\n",
            "Epoch: 093, Loss: 0.6895\n",
            "Epoch: 094, Loss: 0.6897\n",
            "Epoch: 095, Loss: 0.6905\n",
            "Epoch: 096, Loss: 0.6906\n",
            "Epoch: 097, Loss: 0.6903\n",
            "Epoch: 098, Loss: 0.6896\n",
            "Epoch: 099, Loss: 0.6902\n",
            "Epoch: 100, Loss: 0.6903\n"
          ]
        }
      ],
      "source": [
        "from IPython.display import Javascript  # Restrict height of output cell.\n",
        "display(Javascript('''google.colab.output.setIframeHeight(0, true, {maxHeight: 300})'''))\n",
        "\n",
        "model = GCN(hidden_channels=16)\n",
        "optimizer = torch.optim.Adam(model.parameters(), lr=0.01, weight_decay=5e-4)\n",
        "criterion = torch.nn.CrossEntropyLoss()\n",
        "\n",
        "def train():\n",
        "      model.train()\n",
        "      optimizer.zero_grad()  # Clear gradients.\n",
        "      out = model(data.x, data.edge_index)  # Perform a single forward pass.\n",
        "      loss = criterion(out[train_mask], data.y[train_mask])  # Compute the loss solely based on the training nodes.\n",
        "      loss.backward()  # Derive gradients.\n",
        "      optimizer.step()  # Update parameters based on gradients.\n",
        "      return loss\n",
        "\n",
        "def test():\n",
        "      model.eval()\n",
        "      out = model(data.x, data.edge_index)\n",
        "      pred = out.argmax(dim=1)  # Use the class with highest probability.\n",
        "      output = pred[test_mask]\n",
        "      return output\n",
        "    \n",
        "\n",
        "for epoch in range(1, 101):\n",
        "    loss = train()\n",
        "    print(f'Epoch: {epoch:03d}, Loss: {loss:.4f}')"
      ]
    },
    {
      "cell_type": "code",
      "source": [
        "output = test()"
      ],
      "metadata": {
        "id": "pCwOn-gsf_hW"
      },
      "execution_count": null,
      "outputs": []
    },
    {
      "cell_type": "code",
      "source": [
        "from sklearn.metrics import confusion_matrix , classification_report"
      ],
      "metadata": {
        "id": "ZrCfsFtMgCve"
      },
      "execution_count": null,
      "outputs": []
    },
    {
      "cell_type": "code",
      "source": [
        "print(classification_report(data.y[test_mask],output))"
      ],
      "metadata": {
        "id": "_bcniQK-gJaT",
        "outputId": "ba600689-bf69-4c89-ae76-3039ffbe712b",
        "colab": {
          "base_uri": "https://localhost:8080/"
        }
      },
      "execution_count": null,
      "outputs": [
        {
          "output_type": "stream",
          "name": "stdout",
          "text": [
            "              precision    recall  f1-score   support\n",
            "\n",
            "           0       0.49      0.08      0.14       750\n",
            "           1       0.49      0.91      0.64       727\n",
            "\n",
            "    accuracy                           0.49      1477\n",
            "   macro avg       0.49      0.50      0.39      1477\n",
            "weighted avg       0.49      0.49      0.38      1477\n",
            "\n"
          ]
        }
      ]
    },
    {
      "cell_type": "code",
      "execution_count": null,
      "metadata": {
        "colab": {
          "base_uri": "https://localhost:8080/"
        },
        "id": "5obUiYVlcoen",
        "outputId": "004c33fe-6f73-4d12-e57e-25d41ca73dcb"
      },
      "outputs": [
        {
          "output_type": "stream",
          "name": "stdout",
          "text": [
            "Test Accuracy: 0.4963\n"
          ]
        }
      ],
      "source": [
        "test_acc = test()\n",
        "print(f'Test Accuracy: {test_acc:.4f}')"
      ]
    }
  ],
  "metadata": {
    "accelerator": "GPU",
    "colab": {
      "machine_shape": "hm",
      "provenance": [],
      "include_colab_link": true
    },
    "gpuClass": "standard",
    "kernelspec": {
      "display_name": "Python 3",
      "name": "python3"
    },
    "language_info": {
      "name": "python"
    }
  },
  "nbformat": 4,
  "nbformat_minor": 0
}